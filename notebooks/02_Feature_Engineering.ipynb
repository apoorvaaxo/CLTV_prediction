{
 "cells": [
  {
   "cell_type": "markdown",
   "id": "1da7b36a",
   "metadata": {},
   "source": [
    "#### Feature engineering involves transforming cleaned transactional data into customer-level features, specifically focusing on RFM (Recency, Frequency, Monetary) and customer Tenure. These features are fundamental inputs for our CLTV prediction models.\n"
   ]
  },
  {
   "cell_type": "code",
   "execution_count": 2,
   "id": "733c22c0",
   "metadata": {},
   "outputs": [
    {
     "name": "stderr",
     "output_type": "stream",
     "text": [
      "C:\\Users\\DELL\\AppData\\Local\\Temp\\ipykernel_2364\\862685426.py:1: DeprecationWarning: \n",
      "Pyarrow will become a required dependency of pandas in the next major release of pandas (pandas 3.0),\n",
      "(to allow more performant data types, such as the Arrow string type, and better interoperability with other libraries)\n",
      "but was not found to be installed on your system.\n",
      "If this would cause problems for you,\n",
      "please provide us feedback at https://github.com/pandas-dev/pandas/issues/54466\n",
      "        \n",
      "  import pandas as pd\n"
     ]
    }
   ],
   "source": [
    "import pandas as pd\n",
    "import numpy as np\n",
    "import datetime as dt"
   ]
  },
  {
   "cell_type": "code",
   "execution_count": 3,
   "id": "21b2af36",
   "metadata": {},
   "outputs": [],
   "source": [
    "pd.set_option('display.max_columns', None)\n",
    "pd.set_option('display.width', 1000)\n",
    "pd.set_option('display.float_format', lambda x: '%.2f' % x)"
   ]
  },
  {
   "cell_type": "code",
   "execution_count": 4,
   "id": "06bbb5a9",
   "metadata": {},
   "outputs": [
    {
     "name": "stdout",
     "output_type": "stream",
     "text": [
      "loading the dataset...\n",
      "Loaded the Cleaned dataset successfully!\n"
     ]
    }
   ],
   "source": [
    "print(\"loading the dataset...\")\n",
    "try:\n",
    "    df_cleaned=pd.read_csv(\"../data/processed/online_retail_cleaned.csv\")\n",
    "    df_cleaned['InvoiceDate']=pd.to_datetime(df_cleaned['InvoiceDate'])\n",
    "    print(\"Loaded the Cleaned dataset successfully!\")\n",
    "except FileNotFoundError:\n",
    "    print(\"File not found!\")\n",
    "    exit()"
   ]
  },
  {
   "cell_type": "code",
   "execution_count": 5,
   "id": "d762532b",
   "metadata": {},
   "outputs": [
    {
     "name": "stdout",
     "output_type": "stream",
     "text": [
      "Shape of the cleaned dataset (392692, 9)\n",
      "Sample of the cleaned dataset: \n"
     ]
    },
    {
     "data": {
      "text/html": [
       "<div>\n",
       "<style scoped>\n",
       "    .dataframe tbody tr th:only-of-type {\n",
       "        vertical-align: middle;\n",
       "    }\n",
       "\n",
       "    .dataframe tbody tr th {\n",
       "        vertical-align: top;\n",
       "    }\n",
       "\n",
       "    .dataframe thead th {\n",
       "        text-align: right;\n",
       "    }\n",
       "</style>\n",
       "<table border=\"1\" class=\"dataframe\">\n",
       "  <thead>\n",
       "    <tr style=\"text-align: right;\">\n",
       "      <th></th>\n",
       "      <th>InvoiceNo</th>\n",
       "      <th>StockCode</th>\n",
       "      <th>Description</th>\n",
       "      <th>Quantity</th>\n",
       "      <th>InvoiceDate</th>\n",
       "      <th>UnitPrice</th>\n",
       "      <th>CustomerID</th>\n",
       "      <th>Country</th>\n",
       "      <th>TotalPrice</th>\n",
       "    </tr>\n",
       "  </thead>\n",
       "  <tbody>\n",
       "    <tr>\n",
       "      <th>0</th>\n",
       "      <td>536365</td>\n",
       "      <td>85123A</td>\n",
       "      <td>WHITE HANGING HEART T-LIGHT HOLDER</td>\n",
       "      <td>6</td>\n",
       "      <td>2010-12-01 08:26:00</td>\n",
       "      <td>2.55</td>\n",
       "      <td>17850</td>\n",
       "      <td>United Kingdom</td>\n",
       "      <td>15.30</td>\n",
       "    </tr>\n",
       "    <tr>\n",
       "      <th>1</th>\n",
       "      <td>536365</td>\n",
       "      <td>71053</td>\n",
       "      <td>WHITE METAL LANTERN</td>\n",
       "      <td>6</td>\n",
       "      <td>2010-12-01 08:26:00</td>\n",
       "      <td>3.39</td>\n",
       "      <td>17850</td>\n",
       "      <td>United Kingdom</td>\n",
       "      <td>20.34</td>\n",
       "    </tr>\n",
       "    <tr>\n",
       "      <th>2</th>\n",
       "      <td>536365</td>\n",
       "      <td>84406B</td>\n",
       "      <td>CREAM CUPID HEARTS COAT HANGER</td>\n",
       "      <td>8</td>\n",
       "      <td>2010-12-01 08:26:00</td>\n",
       "      <td>2.75</td>\n",
       "      <td>17850</td>\n",
       "      <td>United Kingdom</td>\n",
       "      <td>22.00</td>\n",
       "    </tr>\n",
       "    <tr>\n",
       "      <th>3</th>\n",
       "      <td>536365</td>\n",
       "      <td>84029G</td>\n",
       "      <td>KNITTED UNION FLAG HOT WATER BOTTLE</td>\n",
       "      <td>6</td>\n",
       "      <td>2010-12-01 08:26:00</td>\n",
       "      <td>3.39</td>\n",
       "      <td>17850</td>\n",
       "      <td>United Kingdom</td>\n",
       "      <td>20.34</td>\n",
       "    </tr>\n",
       "    <tr>\n",
       "      <th>4</th>\n",
       "      <td>536365</td>\n",
       "      <td>84029E</td>\n",
       "      <td>RED WOOLLY HOTTIE WHITE HEART.</td>\n",
       "      <td>6</td>\n",
       "      <td>2010-12-01 08:26:00</td>\n",
       "      <td>3.39</td>\n",
       "      <td>17850</td>\n",
       "      <td>United Kingdom</td>\n",
       "      <td>20.34</td>\n",
       "    </tr>\n",
       "  </tbody>\n",
       "</table>\n",
       "</div>"
      ],
      "text/plain": [
       "   InvoiceNo StockCode                          Description  Quantity         InvoiceDate  UnitPrice  CustomerID         Country  TotalPrice\n",
       "0     536365    85123A   WHITE HANGING HEART T-LIGHT HOLDER         6 2010-12-01 08:26:00       2.55       17850  United Kingdom       15.30\n",
       "1     536365     71053                  WHITE METAL LANTERN         6 2010-12-01 08:26:00       3.39       17850  United Kingdom       20.34\n",
       "2     536365    84406B       CREAM CUPID HEARTS COAT HANGER         8 2010-12-01 08:26:00       2.75       17850  United Kingdom       22.00\n",
       "3     536365    84029G  KNITTED UNION FLAG HOT WATER BOTTLE         6 2010-12-01 08:26:00       3.39       17850  United Kingdom       20.34\n",
       "4     536365    84029E       RED WOOLLY HOTTIE WHITE HEART.         6 2010-12-01 08:26:00       3.39       17850  United Kingdom       20.34"
      ]
     },
     "execution_count": 5,
     "metadata": {},
     "output_type": "execute_result"
    }
   ],
   "source": [
    "print(\"Shape of the cleaned dataset\",df_cleaned.shape)\n",
    "print(\"Sample of the cleaned dataset: \")\n",
    "df_cleaned.head()"
   ]
  },
  {
   "cell_type": "markdown",
   "id": "378bd312",
   "metadata": {},
   "source": [
    "### Defining the analysis period\n",
    "#### for cltv, we need a snapshot of a reference date to calculate the analysis period i.e recency, frequency, monetary and tenure."
   ]
  },
  {
   "cell_type": "code",
   "execution_count": 6,
   "id": "7ddad1a1",
   "metadata": {},
   "outputs": [
    {
     "name": "stdout",
     "output_type": "stream",
     "text": [
      "Analysis snapshot date:  2011-12-10 12:50:00\n"
     ]
    }
   ],
   "source": [
    "snapshot_date=df_cleaned['InvoiceDate'].max() + dt.timedelta(days=1)\n",
    "print(\"Analysis snapshot date: \" , snapshot_date)"
   ]
  },
  {
   "cell_type": "markdown",
   "id": "a8e0340d",
   "metadata": {},
   "source": [
    "### Calculate the RFM\n",
    "#### Here RFM is:\n",
    "#### 1. R (Recency) : days since last purchase\n",
    "#### 2. F (Frequency) : Total number of purchases/transactions\n",
    "#### 3. M (Monetary) : Total monetary value of purchases"
   ]
  },
  {
   "cell_type": "code",
   "execution_count": 7,
   "id": "62f6a5ac",
   "metadata": {},
   "outputs": [
    {
     "name": "stdout",
     "output_type": "stream",
     "text": [
      "Calculating RFM features....\n",
      "RFM DataFrame head:\n",
      "   CustomerID  Recency  Frequency  Monetary\n",
      "0       12346      326          1  77183.60\n",
      "1       12347        2          7   4310.00\n",
      "2       12348       75          4   1797.24\n",
      "3       12349       19          1   1757.55\n",
      "4       12350      310          1    334.40\n",
      "Shape of rfm is  (4338, 4)\n"
     ]
    }
   ],
   "source": [
    "print(\"Calculating RFM features....\")\n",
    "rfm_df=df_cleaned.groupby('CustomerID').agg(\n",
    "Recency=('InvoiceDate', lambda date:(snapshot_date-date.max()).days),\n",
    "Frequency=('InvoiceDate', 'nunique'),\n",
    "Monetary=('TotalPrice','sum')\n",
    "\n",
    ").reset_index()\n",
    "\n",
    "print(\"RFM DataFrame head:\")\n",
    "print(rfm_df.head())\n",
    "print(\"Shape of rfm is \" , rfm_df.shape)"
   ]
  },
  {
   "cell_type": "markdown",
   "id": "f5aca3a4",
   "metadata": {},
   "source": [
    "#### 4. Tenure :The age of the customer from their first purchase date to the snapshot date.This is important as older customers (higher tenure) might have higher CLTV naturally."
   ]
  },
  {
   "cell_type": "code",
   "execution_count": 8,
   "id": "d92b45f2",
   "metadata": {},
   "outputs": [
    {
     "name": "stdout",
     "output_type": "stream",
     "text": [
      "RFM DataFrame with Tenure head:\n",
      "   CustomerID  Recency  Frequency  Monetary       FirstPurchase  Tenure\n",
      "0       12346      326          1  77183.60 2011-01-18 10:01:00     326\n",
      "1       12347        2          7   4310.00 2010-12-07 14:57:00     367\n",
      "2       12348       75          4   1797.24 2010-12-16 19:09:00     358\n",
      "3       12349       19          1   1757.55 2011-11-21 09:51:00      19\n",
      "4       12350      310          1    334.40 2011-02-02 16:01:00     310\n"
     ]
    }
   ],
   "source": [
    "first_purchase_date_df = df_cleaned.groupby('CustomerID').agg(\n",
    "    FirstPurchase=('InvoiceDate', 'min')\n",
    ").reset_index()\n",
    "\n",
    "#merge first purchase date with RFM dataframe\n",
    "rfm_df = pd.merge(rfm_df,first_purchase_date_df, on='CustomerID' , how='left')\n",
    "\n",
    "#Calculate tenure in days\n",
    "rfm_df['Tenure']=(snapshot_date - rfm_df['FirstPurchase']).dt.days\n",
    "\n",
    "print(\"RFM DataFrame with Tenure head:\")\n",
    "print(rfm_df.head())"
   ]
  },
  {
   "cell_type": "markdown",
   "id": "40ff794f",
   "metadata": {},
   "source": [
    "### Adjusting frequency for CLTV modeling. \n",
    "#### As we'll be using probablistic models like BG/NBD, frequency is defined as the number of additional purchases after the first purchase. Therefore, a customer who bought once will have frequency=0.We will be using the 'lifetimes' library from python to use the probablistic model. "
   ]
  },
  {
   "cell_type": "markdown",
   "id": "a31e65a1",
   "metadata": {},
   "source": [
    "##### Frequency model"
   ]
  },
  {
   "cell_type": "code",
   "execution_count": 9,
   "id": "8f122416",
   "metadata": {},
   "outputs": [],
   "source": [
    "#find the number of unique purchase days -> represents distinct buying occasions.\n",
    "customer_transactions_count=df_cleaned.groupby('CustomerID').agg(\n",
    "    NumTransactions=('InvoiceDate' ,'nunique')\n",
    ").reset_index()\n",
    "\n",
    "rfm_df=pd.merge(rfm_df , customer_transactions_count , on='CustomerID' , how='left')\n",
    "\n",
    "#Frequency of probablistic models (eg. lifetimes library) is 'number of transactions -1' for frequent buyers and 0 for one time buyers\n",
    "rfm_df['Frequency_model']=rfm_df['NumTransactions']-1\n",
    "rfm_df.loc[rfm_df['NumTransactions'] == 1, 'Frequency_model'] = 0 # Ensure single buyers have 0 repeat frequency\n"
   ]
  },
  {
   "cell_type": "markdown",
   "id": "33630a82",
   "metadata": {},
   "source": [
    "#### Recency for probabilistic models is the age of the customer *at the time of their last purchase* (T_x). T_x is the duration between the first purchase and the last purchase in days.It's 'Recency' from the perspective of the customer's *last purchase*, not snapshot date.\n"
   ]
  },
  {
   "cell_type": "markdown",
   "id": "8d0fb627",
   "metadata": {},
   "source": [
    "##### Recency model"
   ]
  },
  {
   "cell_type": "code",
   "execution_count": 10,
   "id": "c58b0e62",
   "metadata": {},
   "outputs": [],
   "source": [
    "last_purchase_date_df = df_cleaned.groupby('CustomerID').agg(\n",
    "    LastPurchase=('InvoiceDate', 'max')\n",
    ").reset_index()\n",
    "rfm_df = pd.merge(rfm_df, last_purchase_date_df, on='CustomerID', how='left')\n",
    "rfm_df['Recency_Model'] = (rfm_df['LastPurchase'] - rfm_df['FirstPurchase']).dt.days"
   ]
  },
  {
   "cell_type": "markdown",
   "id": "2dff0913",
   "metadata": {},
   "source": [
    "#### T for probabilistic models is the age of the customer (Tenure) in days, from first purchase to snapshot date.We already have 'Tenure' calculated earlier."
   ]
  },
  {
   "cell_type": "code",
   "execution_count": 11,
   "id": "d50e69bd",
   "metadata": {},
   "outputs": [
    {
     "name": "stdout",
     "output_type": "stream",
     "text": [
      "\n",
      "RFM DataFrame with adjusted features for probabilistic models:\n",
      "   CustomerID  Recency  Frequency  Monetary  Tenure  Frequency_model  Recency_Model\n",
      "0       12346      326          1  77183.60     326                0              0\n",
      "1       12347        2          7   4310.00     367                6            365\n",
      "2       12348       75          4   1797.24     358                3            282\n",
      "3       12349       19          1   1757.55      19                0              0\n",
      "4       12350      310          1    334.40     310                0              0\n"
     ]
    }
   ],
   "source": [
    "print(\"\\nRFM DataFrame with adjusted features for probabilistic models:\")\n",
    "# Display columns relevant for 'lifetimes' library: Frequency_Model (x), Recency_Model (T_x), Tenure (T)\n",
    "print(rfm_df[['CustomerID', 'Recency', 'Frequency', 'Monetary', 'Tenure', 'Frequency_model', 'Recency_Model']].head())\n",
    "\n"
   ]
  },
  {
   "cell_type": "markdown",
   "id": "056cea54",
   "metadata": {},
   "source": [
    "#### Average order value\n",
    "##### Now let's calculate the average order value(AOV)"
   ]
  },
  {
   "cell_type": "code",
   "execution_count": 12,
   "id": "0580d993",
   "metadata": {},
   "outputs": [],
   "source": [
    "rfm_df['AOV']=rfm_df['Monetary'] / rfm_df['Frequency']\n",
    "# Handle cases where Frequency is 0 (single buyers) to avoid division by zero for AOV\n",
    "rfm_df.loc[rfm_df['Frequency'] == 0, 'AOV'] = rfm_df['Monetary'] # For single buyers, AOV is their one purchase monetary value.\n"
   ]
  },
  {
   "cell_type": "markdown",
   "id": "89a8351c",
   "metadata": {},
   "source": [
    "### Purchase Gap\n",
    "##### Here we should see the individual invoice dates per customer"
   ]
  },
  {
   "cell_type": "code",
   "execution_count": 13,
   "id": "f2d41d3a",
   "metadata": {},
   "outputs": [],
   "source": [
    "#Calculate AvgPurchaseGap\n",
    "customer_invoice_gap = df_cleaned.groupby('CustomerID')['InvoiceDate'].apply(\n",
    "    lambda x: x.sort_values().diff().dropna().dt.days.mean()\n",
    ").reset_index(name='AvgPurchaseGap')\n",
    "\n",
    "# Before merging, make sure no duplicate 'AvgPurchaseGap' column exists\n",
    "if 'AvgPurchaseGap' in rfm_df.columns:\n",
    "    rfm_df = rfm_df.drop(columns=['AvgPurchaseGap'])\n",
    "\n",
    "# Merge safely\n",
    "rfm_df = pd.merge(rfm_df, customer_invoice_gap, on='CustomerID', how='left')\n",
    "\n",
    "# Fill NaN values (i.e., single purchase customers)\n",
    "rfm_df['AvgPurchaseGap'] = rfm_df['AvgPurchaseGap'].fillna(0)"
   ]
  },
  {
   "cell_type": "markdown",
   "id": "4210e31a",
   "metadata": {},
   "source": [
    "### Product diversity - number of unique products bought"
   ]
  },
  {
   "cell_type": "code",
   "execution_count": 14,
   "id": "02864053",
   "metadata": {},
   "outputs": [],
   "source": [
    "product_diversity_df = df_cleaned.groupby('CustomerID')['StockCode'].nunique().reset_index(name='ProductDiversity')\n",
    "rfm_df = pd.merge(rfm_df, product_diversity_df, on='CustomerID', how='left')\n"
   ]
  },
  {
   "cell_type": "code",
   "execution_count": 16,
   "id": "6e9fd570",
   "metadata": {},
   "outputs": [
    {
     "name": "stdout",
     "output_type": "stream",
     "text": [
      "\n",
      "RFM DataFrame with additional engineered features:\n",
      "   CustomerID  Recency  Frequency  Monetary       FirstPurchase  Tenure  NumTransactions  Frequency_model        LastPurchase  Recency_Model      AOV  AvgPurchaseGap  ProductDiversity\n",
      "0       12346      326          1  77183.60 2011-01-18 10:01:00     326                1                0 2011-01-18 10:01:00              0 77183.60            0.00                 1\n",
      "1       12347        2          7   4310.00 2010-12-07 14:57:00     367                7                6 2011-12-07 15:52:00            365   615.71            2.00               103\n",
      "2       12348       75          4   1797.24 2010-12-16 19:09:00     358                4                3 2011-09-25 13:13:00            282   449.31            9.40                22\n",
      "3       12349       19          1   1757.55 2011-11-21 09:51:00      19                1                0 2011-11-21 09:51:00              0  1757.55            0.00                73\n",
      "4       12350      310          1    334.40 2011-02-02 16:01:00     310                1                0 2011-02-02 16:01:00              0   334.40            0.00                17\n"
     ]
    }
   ],
   "source": [
    "print(\"\\nRFM DataFrame with additional engineered features:\")\n",
    "print(rfm_df.head())\n"
   ]
  },
  {
   "cell_type": "code",
   "execution_count": 18,
   "id": "e9f4c60b",
   "metadata": {},
   "outputs": [
    {
     "name": "stdout",
     "output_type": "stream",
     "text": [
      "\n",
      "Final Feature DataFrame head (ready for modeling):\n",
      "   CustomerID  Recency  Frequency  Monetary  Tenure  Frequency_model  Recency_Model      AOV  AvgPurchaseGap  ProductDiversity\n",
      "0       12346      326          1  77183.60     326                0              0 77183.60            0.00                 1\n",
      "1       12347        2          7   4310.00     367                6            365   615.71            2.00               103\n",
      "2       12348       75          4   1797.24     358                3            282   449.31            9.40                22\n",
      "3       12349       19          1   1757.55      19                0              0  1757.55            0.00                73\n",
      "4       12350      310          1    334.40     310                0              0   334.40            0.00                17\n"
     ]
    }
   ],
   "source": [
    "final_features_df = rfm_df[['CustomerID', 'Recency', 'Frequency', 'Monetary', 'Tenure',\n",
    "                            'Frequency_model', 'Recency_Model', # For probabilistic models\n",
    "                            'AOV', 'AvgPurchaseGap', 'ProductDiversity']]\n",
    "\n",
    "print(\"\\nFinal Feature DataFrame head (ready for modeling):\")\n",
    "print(final_features_df.head())\n",
    "\n"
   ]
  },
  {
   "cell_type": "code",
   "execution_count": 19,
   "id": "d74fe325",
   "metadata": {},
   "outputs": [
    {
     "name": "stdout",
     "output_type": "stream",
     "text": [
      "Shape of final feature DataFrame: (4338, 10)\n",
      "\n",
      "Final feature DataFrame info:\n",
      "<class 'pandas.core.frame.DataFrame'>\n",
      "RangeIndex: 4338 entries, 0 to 4337\n",
      "Data columns (total 10 columns):\n",
      " #   Column            Non-Null Count  Dtype  \n",
      "---  ------            --------------  -----  \n",
      " 0   CustomerID        4338 non-null   int64  \n",
      " 1   Recency           4338 non-null   int64  \n",
      " 2   Frequency         4338 non-null   int64  \n",
      " 3   Monetary          4338 non-null   float64\n",
      " 4   Tenure            4338 non-null   int64  \n",
      " 5   Frequency_model   4338 non-null   int64  \n",
      " 6   Recency_Model     4338 non-null   int64  \n",
      " 7   AOV               4338 non-null   float64\n",
      " 8   AvgPurchaseGap    4338 non-null   float64\n",
      " 9   ProductDiversity  4338 non-null   int64  \n",
      "dtypes: float64(3), int64(7)\n",
      "memory usage: 339.0 KB\n"
     ]
    }
   ],
   "source": [
    "print(f\"Shape of final feature DataFrame: {final_features_df.shape}\")\n",
    "print(\"\\nFinal feature DataFrame info:\")\n",
    "final_features_df.info()"
   ]
  },
  {
   "cell_type": "markdown",
   "id": "e1dc0a12",
   "metadata": {},
   "source": [
    "## Save the feature-engineered data"
   ]
  },
  {
   "cell_type": "code",
   "execution_count": 20,
   "id": "c155826b",
   "metadata": {},
   "outputs": [
    {
     "name": "stdout",
     "output_type": "stream",
     "text": [
      "\n",
      "Feature-engineered data saved to: ../data/processed/customer_features_rfm.csv\n"
     ]
    }
   ],
   "source": [
    "\n",
    "output_path = '../data/processed/customer_features_rfm.csv'\n",
    "final_features_df.to_csv(output_path, index=False)\n",
    "print(f\"\\nFeature-engineered data saved to: {output_path}\")"
   ]
  },
  {
   "cell_type": "markdown",
   "id": "5c3043db",
   "metadata": {},
   "source": [
    "---\n",
    "##  Feature Engineering\n",
    "\n",
    "We successfully transformed the granular transactional data into a  set of customer-level features essential for CLTV prediction. Key achievements include:\n",
    "\n",
    "* **RFM (Recency, Frequency, Monetary) Calculation**: Derived these core behavioral metrics for each customer, based on a defined snapshot date.\n",
    "* **Customer Tenure**: Calculated the age of each customer from their first purchase, a vital indicator of potential lifetime value.\n",
    "* **Probabilistic Model Adjustments**: Created `Frequency_Model` and `Recency_Model` specifically tailored for the `lifetimes` library's probabilistic models (BG/NBD, Gamma-Gamma), which require a slightly different interpretation of RFM.\n",
    "* **Advanced Features**: Went beyond basic RFM by engineering `Average Order Value (AOV)`, `Average Purchase Gap`, and `Product Diversity`. These features provide deeper insights into customer behavior and will enrich our predictive models.\n",
    "\n",
    "The `customer_features_rfm.csv` dataset, now containing these comprehensive customer profiles, is saved in the `data/processed/` directory. It is fully prepared to be used as input for our CLTV prediction models in the next phase."
   ]
  },
  {
   "cell_type": "code",
   "execution_count": null,
   "id": "b651e212",
   "metadata": {},
   "outputs": [],
   "source": []
  }
 ],
 "metadata": {
  "kernelspec": {
   "display_name": "cltv_env",
   "language": "python",
   "name": "python3"
  },
  "language_info": {
   "codemirror_mode": {
    "name": "ipython",
    "version": 3
   },
   "file_extension": ".py",
   "mimetype": "text/x-python",
   "name": "python",
   "nbconvert_exporter": "python",
   "pygments_lexer": "ipython3",
   "version": "3.9.23"
  }
 },
 "nbformat": 4,
 "nbformat_minor": 5
}
