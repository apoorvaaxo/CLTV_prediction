{
 "cells": [
  {
   "cell_type": "markdown",
   "id": "b3dfc9f4",
   "metadata": {},
   "source": [
    "##### Phase Objective: This notebook focuses on applying the CLTV predictions from our previous analysis. We will segment customers into actionable groups and propose tailored business strategies for each segment, showcasing how my data science work can directly drive business value.\n"
   ]
  },
  {
   "cell_type": "code",
   "execution_count": 50,
   "id": "250bdbf6",
   "metadata": {},
   "outputs": [],
   "source": [
    "\n",
    "import pandas as pd\n",
    "import numpy as np\n",
    "import matplotlib.pyplot as plt\n",
    "import seaborn as sns"
   ]
  },
  {
   "cell_type": "code",
   "execution_count": 51,
   "id": "172699ef",
   "metadata": {},
   "outputs": [],
   "source": [
    "# Set display options for better viewing\n",
    "pd.set_option('display.max_columns', None)\n",
    "pd.set_option('display.width', 1000)\n",
    "pd.set_option('display.float_format', lambda x: '%.2f' % x)"
   ]
  },
  {
   "cell_type": "code",
   "execution_count": 52,
   "id": "d9b93fb5",
   "metadata": {},
   "outputs": [
    {
     "name": "stdout",
     "output_type": "stream",
     "text": [
      "Loading necessary data...\n",
      "Data loaded successfully.\n"
     ]
    }
   ],
   "source": [
    "print(\"Loading necessary data...\")\n",
    "try:\n",
    "    # Load the feature-engineered data (RFM, Tenure, etc.)\n",
    "    df_features = pd.read_csv('../data/processed/customer_features_rfm.csv')\n",
    "    # Load the CLTV predictions from the probabilistic model\n",
    "    df_predictions = pd.read_csv('../data/processed/cltv_predictions_probabilistic.csv')\n",
    "\n",
    "    print(\"Data loaded successfully.\")\n",
    "except FileNotFoundError as e:\n",
    "    print(f\"Error: {e}. Please ensure previous notebooks were run and saved.\")\n",
    "    exit()"
   ]
  },
  {
   "cell_type": "code",
   "execution_count": 53,
   "id": "531babf2",
   "metadata": {},
   "outputs": [
    {
     "data": {
      "text/html": [
       "<div>\n",
       "<style scoped>\n",
       "    .dataframe tbody tr th:only-of-type {\n",
       "        vertical-align: middle;\n",
       "    }\n",
       "\n",
       "    .dataframe tbody tr th {\n",
       "        vertical-align: top;\n",
       "    }\n",
       "\n",
       "    .dataframe thead th {\n",
       "        text-align: right;\n",
       "    }\n",
       "</style>\n",
       "<table border=\"1\" class=\"dataframe\">\n",
       "  <thead>\n",
       "    <tr style=\"text-align: right;\">\n",
       "      <th></th>\n",
       "      <th>CustomerID</th>\n",
       "      <th>Recency</th>\n",
       "      <th>Frequency</th>\n",
       "      <th>Monetary</th>\n",
       "      <th>Tenure</th>\n",
       "      <th>Frequency_model</th>\n",
       "      <th>Recency_Model</th>\n",
       "      <th>AOV</th>\n",
       "      <th>AvgPurchaseGap</th>\n",
       "      <th>ProductDiversity</th>\n",
       "    </tr>\n",
       "  </thead>\n",
       "  <tbody>\n",
       "    <tr>\n",
       "      <th>0</th>\n",
       "      <td>12346</td>\n",
       "      <td>326</td>\n",
       "      <td>1</td>\n",
       "      <td>5788770.00</td>\n",
       "      <td>326</td>\n",
       "      <td>0</td>\n",
       "      <td>0</td>\n",
       "      <td>5788770.00</td>\n",
       "      <td>0.00</td>\n",
       "      <td>1</td>\n",
       "    </tr>\n",
       "    <tr>\n",
       "      <th>1</th>\n",
       "      <td>12347</td>\n",
       "      <td>2</td>\n",
       "      <td>7</td>\n",
       "      <td>323250.00</td>\n",
       "      <td>367</td>\n",
       "      <td>6</td>\n",
       "      <td>365</td>\n",
       "      <td>46178.57</td>\n",
       "      <td>2.00</td>\n",
       "      <td>103</td>\n",
       "    </tr>\n",
       "    <tr>\n",
       "      <th>2</th>\n",
       "      <td>12348</td>\n",
       "      <td>75</td>\n",
       "      <td>4</td>\n",
       "      <td>134793.00</td>\n",
       "      <td>358</td>\n",
       "      <td>3</td>\n",
       "      <td>282</td>\n",
       "      <td>33698.25</td>\n",
       "      <td>9.40</td>\n",
       "      <td>22</td>\n",
       "    </tr>\n",
       "    <tr>\n",
       "      <th>3</th>\n",
       "      <td>12349</td>\n",
       "      <td>19</td>\n",
       "      <td>1</td>\n",
       "      <td>131816.25</td>\n",
       "      <td>19</td>\n",
       "      <td>0</td>\n",
       "      <td>0</td>\n",
       "      <td>131816.25</td>\n",
       "      <td>0.00</td>\n",
       "      <td>73</td>\n",
       "    </tr>\n",
       "    <tr>\n",
       "      <th>4</th>\n",
       "      <td>12350</td>\n",
       "      <td>310</td>\n",
       "      <td>1</td>\n",
       "      <td>25080.00</td>\n",
       "      <td>310</td>\n",
       "      <td>0</td>\n",
       "      <td>0</td>\n",
       "      <td>25080.00</td>\n",
       "      <td>0.00</td>\n",
       "      <td>17</td>\n",
       "    </tr>\n",
       "  </tbody>\n",
       "</table>\n",
       "</div>"
      ],
      "text/plain": [
       "   CustomerID  Recency  Frequency   Monetary  Tenure  Frequency_model  Recency_Model        AOV  AvgPurchaseGap  ProductDiversity\n",
       "0       12346      326          1 5788770.00     326                0              0 5788770.00            0.00                 1\n",
       "1       12347        2          7  323250.00     367                6            365   46178.57            2.00               103\n",
       "2       12348       75          4  134793.00     358                3            282   33698.25            9.40                22\n",
       "3       12349       19          1  131816.25      19                0              0  131816.25            0.00                73\n",
       "4       12350      310          1   25080.00     310                0              0   25080.00            0.00                17"
      ]
     },
     "execution_count": 53,
     "metadata": {},
     "output_type": "execute_result"
    }
   ],
   "source": [
    "df_features.head()"
   ]
  },
  {
   "cell_type": "code",
   "execution_count": 54,
   "id": "cbeacfe3",
   "metadata": {},
   "outputs": [
    {
     "data": {
      "text/html": [
       "<div>\n",
       "<style scoped>\n",
       "    .dataframe tbody tr th:only-of-type {\n",
       "        vertical-align: middle;\n",
       "    }\n",
       "\n",
       "    .dataframe tbody tr th {\n",
       "        vertical-align: top;\n",
       "    }\n",
       "\n",
       "    .dataframe thead th {\n",
       "        text-align: right;\n",
       "    }\n",
       "</style>\n",
       "<table border=\"1\" class=\"dataframe\">\n",
       "  <thead>\n",
       "    <tr style=\"text-align: right;\">\n",
       "      <th></th>\n",
       "      <th>CustomerID</th>\n",
       "      <th>frequency</th>\n",
       "      <th>recency</th>\n",
       "      <th>T</th>\n",
       "      <th>monetary</th>\n",
       "      <th>predicted_cltv</th>\n",
       "    </tr>\n",
       "  </thead>\n",
       "  <tbody>\n",
       "    <tr>\n",
       "      <th>0</th>\n",
       "      <td>12346</td>\n",
       "      <td>0</td>\n",
       "      <td>0</td>\n",
       "      <td>326</td>\n",
       "      <td>5788770.00</td>\n",
       "      <td>1135860.92</td>\n",
       "    </tr>\n",
       "    <tr>\n",
       "      <th>1</th>\n",
       "      <td>12347</td>\n",
       "      <td>6</td>\n",
       "      <td>365</td>\n",
       "      <td>367</td>\n",
       "      <td>323250.00</td>\n",
       "      <td>14002793.15</td>\n",
       "    </tr>\n",
       "    <tr>\n",
       "      <th>2</th>\n",
       "      <td>12348</td>\n",
       "      <td>3</td>\n",
       "      <td>282</td>\n",
       "      <td>358</td>\n",
       "      <td>134793.00</td>\n",
       "      <td>3595754.25</td>\n",
       "    </tr>\n",
       "    <tr>\n",
       "      <th>3</th>\n",
       "      <td>12349</td>\n",
       "      <td>0</td>\n",
       "      <td>0</td>\n",
       "      <td>19</td>\n",
       "      <td>131816.25</td>\n",
       "      <td>5826012.14</td>\n",
       "    </tr>\n",
       "    <tr>\n",
       "      <th>4</th>\n",
       "      <td>12350</td>\n",
       "      <td>0</td>\n",
       "      <td>0</td>\n",
       "      <td>310</td>\n",
       "      <td>25080.00</td>\n",
       "      <td>1185003.05</td>\n",
       "    </tr>\n",
       "  </tbody>\n",
       "</table>\n",
       "</div>"
      ],
      "text/plain": [
       "   CustomerID  frequency  recency    T   monetary  predicted_cltv\n",
       "0       12346          0        0  326 5788770.00      1135860.92\n",
       "1       12347          6      365  367  323250.00     14002793.15\n",
       "2       12348          3      282  358  134793.00      3595754.25\n",
       "3       12349          0        0   19  131816.25      5826012.14\n",
       "4       12350          0        0  310   25080.00      1185003.05"
      ]
     },
     "execution_count": 54,
     "metadata": {},
     "output_type": "execute_result"
    }
   ],
   "source": [
    "df_predictions.head()"
   ]
  },
  {
   "cell_type": "code",
   "execution_count": 55,
   "id": "1b5939bc",
   "metadata": {},
   "outputs": [
    {
     "name": "stdout",
     "output_type": "stream",
     "text": [
      "\n",
      "Final combined DataFrame shape: (4338, 11)\n"
     ]
    }
   ],
   "source": [
    "# Merge the features and predictions into a single DataFrame for analysis\n",
    "# We will use the CustomerID to join the two dataframes\n",
    "customer_df = pd.merge(df_features, df_predictions[['CustomerID', 'predicted_cltv']], on='CustomerID', how='inner')\n",
    "\n",
    "print(f\"\\nFinal combined DataFrame shape: {customer_df.shape}\")"
   ]
  },
  {
   "cell_type": "code",
   "execution_count": 56,
   "id": "0add2e35",
   "metadata": {},
   "outputs": [
    {
     "name": "stdout",
     "output_type": "stream",
     "text": [
      "Sample of the combined DataFrame:\n",
      "   CustomerID  Recency  Frequency   Monetary  Tenure  Frequency_model  Recency_Model        AOV  AvgPurchaseGap  ProductDiversity  predicted_cltv\n",
      "0       12346      326          1 5788770.00     326                0              0 5788770.00            0.00                 1      1135860.92\n",
      "1       12347        2          7  323250.00     367                6            365   46178.57            2.00               103     14002793.15\n",
      "2       12348       75          4  134793.00     358                3            282   33698.25            9.40                22      3595754.25\n",
      "3       12349       19          1  131816.25      19                0              0  131816.25            0.00                73      5826012.14\n",
      "4       12350      310          1   25080.00     310                0              0   25080.00            0.00                17      1185003.05\n"
     ]
    }
   ],
   "source": [
    "print(\"Sample of the combined DataFrame:\")\n",
    "print(customer_df.head())"
   ]
  },
  {
   "cell_type": "markdown",
   "id": "1e53eb8f",
   "metadata": {},
   "source": [
    "##### Customer segmentation based on predicted cltv\n",
    "\n",
    "##### We will segment customers into tiers based on their predicted CLTV.\n",
    "##### A common approach is using quantiles (e.g., top 20%, middle 60%, bottom 20%).\n",
    "##### We will create 3 tiers: High-Value, Medium-Value, and Low-Value"
   ]
  },
  {
   "cell_type": "code",
   "execution_count": 57,
   "id": "a0765db7",
   "metadata": {},
   "outputs": [],
   "source": [
    "# Remove any customers with 0 CLTV to focus on those with predicted future spend\n",
    "customer_df = customer_df[customer_df['predicted_cltv'] > 0]\n"
   ]
  },
  {
   "cell_type": "code",
   "execution_count": 58,
   "id": "0352ab53",
   "metadata": {},
   "outputs": [
    {
     "data": {
      "text/html": [
       "<div>\n",
       "<style scoped>\n",
       "    .dataframe tbody tr th:only-of-type {\n",
       "        vertical-align: middle;\n",
       "    }\n",
       "\n",
       "    .dataframe tbody tr th {\n",
       "        vertical-align: top;\n",
       "    }\n",
       "\n",
       "    .dataframe thead th {\n",
       "        text-align: right;\n",
       "    }\n",
       "</style>\n",
       "<table border=\"1\" class=\"dataframe\">\n",
       "  <thead>\n",
       "    <tr style=\"text-align: right;\">\n",
       "      <th></th>\n",
       "      <th>CustomerID</th>\n",
       "      <th>Recency</th>\n",
       "      <th>Frequency</th>\n",
       "      <th>Monetary</th>\n",
       "      <th>Tenure</th>\n",
       "      <th>Frequency_model</th>\n",
       "      <th>Recency_Model</th>\n",
       "      <th>AOV</th>\n",
       "      <th>AvgPurchaseGap</th>\n",
       "      <th>ProductDiversity</th>\n",
       "      <th>predicted_cltv</th>\n",
       "    </tr>\n",
       "  </thead>\n",
       "  <tbody>\n",
       "    <tr>\n",
       "      <th>0</th>\n",
       "      <td>12346</td>\n",
       "      <td>326</td>\n",
       "      <td>1</td>\n",
       "      <td>5788770.00</td>\n",
       "      <td>326</td>\n",
       "      <td>0</td>\n",
       "      <td>0</td>\n",
       "      <td>5788770.00</td>\n",
       "      <td>0.00</td>\n",
       "      <td>1</td>\n",
       "      <td>1135860.92</td>\n",
       "    </tr>\n",
       "    <tr>\n",
       "      <th>1</th>\n",
       "      <td>12347</td>\n",
       "      <td>2</td>\n",
       "      <td>7</td>\n",
       "      <td>323250.00</td>\n",
       "      <td>367</td>\n",
       "      <td>6</td>\n",
       "      <td>365</td>\n",
       "      <td>46178.57</td>\n",
       "      <td>2.00</td>\n",
       "      <td>103</td>\n",
       "      <td>14002793.15</td>\n",
       "    </tr>\n",
       "    <tr>\n",
       "      <th>2</th>\n",
       "      <td>12348</td>\n",
       "      <td>75</td>\n",
       "      <td>4</td>\n",
       "      <td>134793.00</td>\n",
       "      <td>358</td>\n",
       "      <td>3</td>\n",
       "      <td>282</td>\n",
       "      <td>33698.25</td>\n",
       "      <td>9.40</td>\n",
       "      <td>22</td>\n",
       "      <td>3595754.25</td>\n",
       "    </tr>\n",
       "    <tr>\n",
       "      <th>3</th>\n",
       "      <td>12349</td>\n",
       "      <td>19</td>\n",
       "      <td>1</td>\n",
       "      <td>131816.25</td>\n",
       "      <td>19</td>\n",
       "      <td>0</td>\n",
       "      <td>0</td>\n",
       "      <td>131816.25</td>\n",
       "      <td>0.00</td>\n",
       "      <td>73</td>\n",
       "      <td>5826012.14</td>\n",
       "    </tr>\n",
       "    <tr>\n",
       "      <th>4</th>\n",
       "      <td>12350</td>\n",
       "      <td>310</td>\n",
       "      <td>1</td>\n",
       "      <td>25080.00</td>\n",
       "      <td>310</td>\n",
       "      <td>0</td>\n",
       "      <td>0</td>\n",
       "      <td>25080.00</td>\n",
       "      <td>0.00</td>\n",
       "      <td>17</td>\n",
       "      <td>1185003.05</td>\n",
       "    </tr>\n",
       "  </tbody>\n",
       "</table>\n",
       "</div>"
      ],
      "text/plain": [
       "   CustomerID  Recency  Frequency   Monetary  Tenure  Frequency_model  Recency_Model        AOV  AvgPurchaseGap  ProductDiversity  predicted_cltv\n",
       "0       12346      326          1 5788770.00     326                0              0 5788770.00            0.00                 1      1135860.92\n",
       "1       12347        2          7  323250.00     367                6            365   46178.57            2.00               103     14002793.15\n",
       "2       12348       75          4  134793.00     358                3            282   33698.25            9.40                22      3595754.25\n",
       "3       12349       19          1  131816.25      19                0              0  131816.25            0.00                73      5826012.14\n",
       "4       12350      310          1   25080.00     310                0              0   25080.00            0.00                17      1185003.05"
      ]
     },
     "execution_count": 58,
     "metadata": {},
     "output_type": "execute_result"
    }
   ],
   "source": [
    "# Remove any customers with 0 CLTV to focus on those with predicted future spend\n",
    "customer_df.head()\n"
   ]
  },
  {
   "cell_type": "markdown",
   "id": "57d66b7e",
   "metadata": {},
   "source": [
    "##### Calculate the quantiles for our tiers"
   ]
  },
  {
   "cell_type": "code",
   "execution_count": 59,
   "id": "a4b5b519",
   "metadata": {},
   "outputs": [
    {
     "name": "stdout",
     "output_type": "stream",
     "text": [
      "\n",
      "CLTV Quantile Tiers:\n",
      "{0.2: 1439913.300647231, 0.5: 3250112.649247155, 0.8: 7370239.277544349}\n"
     ]
    }
   ],
   "source": [
    "\n",
    "quantiles = customer_df['predicted_cltv'].quantile([0.2, 0.5, 0.8]).to_dict()\n",
    "print(\"\\nCLTV Quantile Tiers:\")\n",
    "print(quantiles)"
   ]
  },
  {
   "cell_type": "markdown",
   "id": "d851a91c",
   "metadata": {},
   "source": [
    "##### Function to assign a segment based on predicted CLTV"
   ]
  },
  {
   "cell_type": "code",
   "execution_count": 60,
   "id": "bc8292b9",
   "metadata": {},
   "outputs": [],
   "source": [
    "\n",
    "def cltv_segment(cltv):\n",
    "    if cltv >= quantiles[0.8]:\n",
    "        return 'High-Value'\n",
    "    elif cltv >= quantiles[0.5]:\n",
    "        return 'Medium-Value'\n",
    "    elif cltv >= quantiles[0.2]:\n",
    "        return 'Low-Value'\n",
    "    else:\n",
    "        return 'At-Risk/Churn'"
   ]
  },
  {
   "cell_type": "markdown",
   "id": "27f61314",
   "metadata": {},
   "source": [
    "####  Apply the segmentation function to the DataFrame"
   ]
  },
  {
   "cell_type": "code",
   "execution_count": 61,
   "id": "2a0332db",
   "metadata": {},
   "outputs": [],
   "source": [
    "\n",
    "customer_df['Segment'] = customer_df['predicted_cltv'].apply(cltv_segment)\n"
   ]
  },
  {
   "cell_type": "code",
   "execution_count": 62,
   "id": "f7c61f92",
   "metadata": {},
   "outputs": [
    {
     "name": "stdout",
     "output_type": "stream",
     "text": [
      "\n",
      "Customer counts per segment:\n",
      "Segment\n",
      "Medium-Value     1304\n",
      "Low-Value        1298\n",
      "At-Risk/Churn     868\n",
      "High-Value        868\n",
      "Name: count, dtype: int64\n"
     ]
    }
   ],
   "source": [
    "print(\"\\nCustomer counts per segment:\")\n",
    "print(customer_df['Segment'].value_counts())"
   ]
  },
  {
   "cell_type": "markdown",
   "id": "1b3714ca",
   "metadata": {},
   "source": [
    "####  Now, let's analyze the characteristics of each segment to understand what makes a customer valuable or not. We'll look at the mean of our key features."
   ]
  },
  {
   "cell_type": "code",
   "execution_count": 63,
   "id": "a6e894be",
   "metadata": {},
   "outputs": [],
   "source": [
    "\n",
    "segment_summary = customer_df.groupby('Segment').agg(\n",
    "    # RFM metrics\n",
    "    Avg_Recency=('Recency', 'mean'),\n",
    "    Avg_Frequency=('Frequency', 'mean'),\n",
    "    Avg_Monetary=('Monetary', 'mean'),\n",
    "    Avg_Tenure=('Tenure', 'mean'),\n",
    "    Avg_AOV=('AOV', 'mean'),\n",
    "    Avg_PurchaseGap=('AvgPurchaseGap', 'mean'),\n",
    "    Avg_ProductDiversity=('ProductDiversity', 'mean'),\n",
    "    # Predictions\n",
    "    Avg_Predicted_CLTV=('predicted_cltv', 'mean')\n",
    ").reset_index()"
   ]
  },
  {
   "cell_type": "code",
   "execution_count": 64,
   "id": "e1c4ec60",
   "metadata": {},
   "outputs": [
    {
     "name": "stdout",
     "output_type": "stream",
     "text": [
      "\n",
      "Summary of key customer characteristics by segment:\n",
      "         Segment  Avg_Recency  Avg_Frequency  Avg_Monetary  Avg_Tenure  Avg_AOV  Avg_PurchaseGap  Avg_ProductDiversity  Avg_Predicted_CLTV\n",
      "1     High-Value        20.90          12.03     549572.77      280.18 51349.86             2.18                145.30        112628554.62\n",
      "3   Medium-Value        39.31           2.78      72523.85      139.81 28137.00             1.76                 53.22          4792781.18\n",
      "2      Low-Value       104.28           2.22      49529.80      211.26 25226.24             3.65                 37.90          2181551.60\n",
      "0  At-Risk/Churn       226.58           1.71      35311.89      309.89 25590.71             5.80                 25.43          1160765.70\n"
     ]
    }
   ],
   "source": [
    "# Sort by Avg_Predicted_CLTV to show the hierarchy\n",
    "segment_summary.sort_values(by='Avg_Predicted_CLTV', ascending=False, inplace=True)\n",
    "\n",
    "print(\"\\nSummary of key customer characteristics by segment:\")\n",
    "print(segment_summary)\n"
   ]
  },
  {
   "cell_type": "markdown",
   "id": "5c10bd79",
   "metadata": {},
   "source": [
    "#### Visualizations of findings"
   ]
  },
  {
   "cell_type": "code",
   "execution_count": 65,
   "id": "cfb33db4",
   "metadata": {},
   "outputs": [
    {
     "name": "stderr",
     "output_type": "stream",
     "text": [
      "C:\\Users\\DELL\\AppData\\Local\\Temp\\ipykernel_8940\\4116103442.py:2: FutureWarning: \n",
      "\n",
      "Passing `palette` without assigning `hue` is deprecated and will be removed in v0.14.0. Assign the `x` variable to `hue` and set `legend=False` for the same effect.\n",
      "\n",
      "  sns.barplot(x='Segment', y='Avg_Predicted_CLTV', data=segment_summary, palette='viridis')\n"
     ]
    },
    {
     "data": {
      "image/png": "[encoded data removed]",
      "text/plain": [
       "<Figure size 1000x600 with 1 Axes>"
      ]
     },
     "metadata": {},
     "output_type": "display_data"
    }
   ],
   "source": [
    "plt.figure(figsize=(10, 6))\n",
    "sns.barplot(x='Segment', y='Avg_Predicted_CLTV', data=segment_summary, palette='viridis')\n",
    "plt.title('Average Predicted CLTV by Customer Segment')\n",
    "plt.xlabel('Customer Segment')\n",
    "plt.ylabel('Average Predicted CLTV')\n",
    "plt.show()"
   ]
  },
  {
   "cell_type": "markdown",
   "id": "acd457d4",
   "metadata": {},
   "source": [
    "#### Key Insights\n",
    "\n",
    "#### We divided our customers into four segments based on their purchase behavior and predicted future value (CLTV). These are my understanding:\n",
    "\n",
    "#### 1. High-Value Customers\n",
    "- Buy frequently (12+ times on average)\n",
    "- Spend a lot (₹549,573 average total spend)\n",
    "- Recently active (last purchase ~21 days ago)\n",
    "- Very high predicted CLTV (₹11+ crores)\n",
    "\n",
    "These are our **most valuable and loyal customers**.  \n",
    "We should focus on **retaining them** with loyalty programs, early offers, and personalized services.\n",
    "\n",
    "---\n",
    "\n",
    "#### 2. Medium-Value Customers\n",
    "- Buy occasionally (~3 times)\n",
    "- Spend a moderate amount (₹72,524)\n",
    "- Less recent activity (~39 days ago)\n",
    "- Good predicted CLTV (~₹47.9 lakhs)\n",
    "\n",
    "These are **potentially loyal customers**.  \n",
    "We can **nurture them** with special deals, reminders, and upselling strategies.\n",
    "\n",
    "---\n",
    "\n",
    "#### 3. Low-Value Customers\n",
    "- Few purchases (~2 times)\n",
    "- Lower spend (₹49,530)\n",
    "- Purchase gaps of around 3.6 days\n",
    "- Low predicted CLTV (~₹21.8 lakhs)\n",
    "\n",
    "These customers show **limited engagement**.  \n",
    "Try **re-engagement campaigns**, product recommendations, or discounts to boost interest.\n",
    "\n",
    "---\n",
    "\n",
    "#### 4. At-Risk / Churn Customers\n",
    "- Haven’t purchased in a long time (~227 days ago)\n",
    "- Low purchase frequency (~1.7 times)\n",
    "- Lowest spend (₹35,312)\n",
    "- Lowest predicted CLTV (~₹11.6 lakhs)\n",
    "\n",
    "These customers are **likely to churn** or have already left.  \n",
    "Consider **win-back campaigns**, surveys, or exit offers to bring them back.\n",
    "\n",
    "---\n",
    "\n",
    "#### Conclusion:\n",
    "This segmentation helps us understand which customers:\n",
    "- Are most profitable (High-Value)\n",
    "- Can be retained or upgraded (Medium & Low-Value)\n",
    "- Need attention before we lose them (At-Risk)\n"
   ]
  },
  {
   "cell_type": "markdown",
   "id": "e96fd885",
   "metadata": {},
   "source": [
    "### Strategy and A/B Testing Framework"
   ]
  },
  {
   "cell_type": "markdown",
   "id": "c50e63e3",
   "metadata": {},
   "source": [
    "##### Segment Summary – Strategic Insights\n",
    "\n",
    "The `segment_summary` table provides the foundation for our business strategy.  \n",
    "By analyzing the average RFM (Recency, Frequency, Monetary) and other features for each group, we can understand their behavior and needs.\n",
    "\n",
    "---\n",
    "\n",
    "##### High-Value Segment\n",
    "These customers are our **\"VIPs\"**.\n",
    "\n",
    "- **Highest predicted CLTV**\n",
    "- **High average frequency**: 12.03 purchases\n",
    "- **Lowest recency**: 20.90 days since last purchase\n",
    "- **High monetary value**: ₹7327.64 average per transaction\n",
    "- **High product diversity**: 145.30 products\n",
    "\n",
    "These are our **most loyal and engaged customers**.  \n",
    "We should focus on **retention, personalized offers, and loyalty programs**.\n",
    "\n",
    "---\n",
    "\n",
    "##### Medium-Value Segment\n",
    "This group shows **moderate but promising engagement**.\n",
    "\n",
    "- **Average frequency**: 2.78\n",
    "- **Recency**: 39.31 days\n",
    "- **Moderate CLTV potential**\n",
    "\n",
    "With the right nudges, they could **move up to the High-Value group**.  \n",
    "Use **targeted promotions, upselling, and product recommendations**.\n",
    "\n",
    "---\n",
    "\n",
    "##### Low-Value Segment\n",
    "These customers have **lower engagement and predicted CLTV**.\n",
    "\n",
    "- **Low frequency**: 2.22\n",
    "- **High recency**: 104.28 days\n",
    "- **Lower transaction value**\n",
    "\n",
    "Many may be **one-time buyers**.  \n",
    "Focus on **cost-effective re-engagement** like email campaigns or discounts.\n",
    "\n",
    "---\n",
    "\n",
    "##### At-Risk / Churn Segment\n",
    "This segment has the **lowest predicted CLTV** and **least recent activity**.\n",
    "\n",
    "- **Very high recency**: 226.58 days\n",
    "- **Very low frequency**\n",
    "- **Lowest spend behavior**\n",
    "\n",
    "They are **likely to churn or already inactive**.  \n",
    "Consider **win-back strategies**, exit surveys, or **accept churn** and reallocate resources.\n",
    "\n",
    "---\n",
    "\n",
    "##### Conclusion:\n",
    "Use this segmentation to:\n",
    "\n",
    "- **Retain and reward High-Value customers**\n",
    "- **Grow Medium-Value customers**\n",
    "- **Re-engage Low-Value customers**\n",
    "- **Decide whether to win back or let go of Churned customers**\n"
   ]
  },
  {
   "cell_type": "code",
   "execution_count": 66,
   "id": "9d261f58",
   "metadata": {},
   "outputs": [],
   "source": [
    "# Create a DataFrame for strategies\n",
    "strategies_dict = {\n",
    "    'Segment': ['High-Value', 'Medium-Value', 'Low-Value', 'At-Risk/Churn'],\n",
    "    'Proposed Strategy': [\n",
    "        'Tiered loyalty program, early access, exclusive offers.',\n",
    "        'Targeted upselling and cross-selling campaigns.',\n",
    "        'Cost-effective re-engagement emails with small discounts.',\n",
    "        'Final, high-discount \"win-back\" offers.'\n",
    "    ]\n",
    "}\n",
    "df_strategies = pd.DataFrame(strategies_dict)"
   ]
  },
  {
   "cell_type": "code",
   "execution_count": 67,
   "id": "40bae26b",
   "metadata": {},
   "outputs": [],
   "source": [
    "df_strategies=pd.DataFrame(strategies_dict)"
   ]
  },
  {
   "cell_type": "code",
   "execution_count": 68,
   "id": "9d5cb84b",
   "metadata": {},
   "outputs": [
    {
     "data": {
      "text/html": [
       "<div>\n",
       "<style scoped>\n",
       "    .dataframe tbody tr th:only-of-type {\n",
       "        vertical-align: middle;\n",
       "    }\n",
       "\n",
       "    .dataframe tbody tr th {\n",
       "        vertical-align: top;\n",
       "    }\n",
       "\n",
       "    .dataframe thead th {\n",
       "        text-align: right;\n",
       "    }\n",
       "</style>\n",
       "<table border=\"1\" class=\"dataframe\">\n",
       "  <thead>\n",
       "    <tr style=\"text-align: right;\">\n",
       "      <th></th>\n",
       "      <th>Segment</th>\n",
       "      <th>Proposed Strategy</th>\n",
       "    </tr>\n",
       "  </thead>\n",
       "  <tbody>\n",
       "    <tr>\n",
       "      <th>0</th>\n",
       "      <td>High-Value</td>\n",
       "      <td>Tiered loyalty program, early access, exclusiv...</td>\n",
       "    </tr>\n",
       "    <tr>\n",
       "      <th>1</th>\n",
       "      <td>Medium-Value</td>\n",
       "      <td>Targeted upselling and cross-selling campaigns.</td>\n",
       "    </tr>\n",
       "    <tr>\n",
       "      <th>2</th>\n",
       "      <td>Low-Value</td>\n",
       "      <td>Cost-effective re-engagement emails with small...</td>\n",
       "    </tr>\n",
       "    <tr>\n",
       "      <th>3</th>\n",
       "      <td>At-Risk/Churn</td>\n",
       "      <td>Final, high-discount \"win-back\" offers.</td>\n",
       "    </tr>\n",
       "  </tbody>\n",
       "</table>\n",
       "</div>"
      ],
      "text/plain": [
       "         Segment                                  Proposed Strategy\n",
       "0     High-Value  Tiered loyalty program, early access, exclusiv...\n",
       "1   Medium-Value    Targeted upselling and cross-selling campaigns.\n",
       "2      Low-Value  Cost-effective re-engagement emails with small...\n",
       "3  At-Risk/Churn            Final, high-discount \"win-back\" offers."
      ]
     },
     "execution_count": 68,
     "metadata": {},
     "output_type": "execute_result"
    }
   ],
   "source": [
    "df_strategies"
   ]
  },
  {
   "cell_type": "code",
   "execution_count": 69,
   "id": "80e0da6b",
   "metadata": {},
   "outputs": [
    {
     "data": {
      "text/html": [
       "<div>\n",
       "<style scoped>\n",
       "    .dataframe tbody tr th:only-of-type {\n",
       "        vertical-align: middle;\n",
       "    }\n",
       "\n",
       "    .dataframe tbody tr th {\n",
       "        vertical-align: top;\n",
       "    }\n",
       "\n",
       "    .dataframe thead th {\n",
       "        text-align: right;\n",
       "    }\n",
       "</style>\n",
       "<table border=\"1\" class=\"dataframe\">\n",
       "  <thead>\n",
       "    <tr style=\"text-align: right;\">\n",
       "      <th></th>\n",
       "      <th>Segment</th>\n",
       "      <th>Avg_Recency</th>\n",
       "      <th>Avg_Frequency</th>\n",
       "      <th>Avg_Monetary</th>\n",
       "      <th>Avg_Tenure</th>\n",
       "      <th>Avg_AOV</th>\n",
       "      <th>Avg_PurchaseGap</th>\n",
       "      <th>Avg_ProductDiversity</th>\n",
       "      <th>Avg_Predicted_CLTV</th>\n",
       "    </tr>\n",
       "  </thead>\n",
       "  <tbody>\n",
       "    <tr>\n",
       "      <th>1</th>\n",
       "      <td>High-Value</td>\n",
       "      <td>20.90</td>\n",
       "      <td>12.03</td>\n",
       "      <td>549572.77</td>\n",
       "      <td>280.18</td>\n",
       "      <td>51349.86</td>\n",
       "      <td>2.18</td>\n",
       "      <td>145.30</td>\n",
       "      <td>112628554.62</td>\n",
       "    </tr>\n",
       "    <tr>\n",
       "      <th>3</th>\n",
       "      <td>Medium-Value</td>\n",
       "      <td>39.31</td>\n",
       "      <td>2.78</td>\n",
       "      <td>72523.85</td>\n",
       "      <td>139.81</td>\n",
       "      <td>28137.00</td>\n",
       "      <td>1.76</td>\n",
       "      <td>53.22</td>\n",
       "      <td>4792781.18</td>\n",
       "    </tr>\n",
       "    <tr>\n",
       "      <th>2</th>\n",
       "      <td>Low-Value</td>\n",
       "      <td>104.28</td>\n",
       "      <td>2.22</td>\n",
       "      <td>49529.80</td>\n",
       "      <td>211.26</td>\n",
       "      <td>25226.24</td>\n",
       "      <td>3.65</td>\n",
       "      <td>37.90</td>\n",
       "      <td>2181551.60</td>\n",
       "    </tr>\n",
       "    <tr>\n",
       "      <th>0</th>\n",
       "      <td>At-Risk/Churn</td>\n",
       "      <td>226.58</td>\n",
       "      <td>1.71</td>\n",
       "      <td>35311.89</td>\n",
       "      <td>309.89</td>\n",
       "      <td>25590.71</td>\n",
       "      <td>5.80</td>\n",
       "      <td>25.43</td>\n",
       "      <td>1160765.70</td>\n",
       "    </tr>\n",
       "  </tbody>\n",
       "</table>\n",
       "</div>"
      ],
      "text/plain": [
       "         Segment  Avg_Recency  Avg_Frequency  Avg_Monetary  Avg_Tenure  Avg_AOV  Avg_PurchaseGap  Avg_ProductDiversity  Avg_Predicted_CLTV\n",
       "1     High-Value        20.90          12.03     549572.77      280.18 51349.86             2.18                145.30        112628554.62\n",
       "3   Medium-Value        39.31           2.78      72523.85      139.81 28137.00             1.76                 53.22          4792781.18\n",
       "2      Low-Value       104.28           2.22      49529.80      211.26 25226.24             3.65                 37.90          2181551.60\n",
       "0  At-Risk/Churn       226.58           1.71      35311.89      309.89 25590.71             5.80                 25.43          1160765.70"
      ]
     },
     "execution_count": 69,
     "metadata": {},
     "output_type": "execute_result"
    }
   ],
   "source": [
    "segment_summary"
   ]
  },
  {
   "cell_type": "code",
   "execution_count": 70,
   "id": "1ae2cc21",
   "metadata": {},
   "outputs": [
    {
     "data": {
      "text/html": [
       "<div>\n",
       "<style scoped>\n",
       "    .dataframe tbody tr th:only-of-type {\n",
       "        vertical-align: middle;\n",
       "    }\n",
       "\n",
       "    .dataframe tbody tr th {\n",
       "        vertical-align: top;\n",
       "    }\n",
       "\n",
       "    .dataframe thead th {\n",
       "        text-align: right;\n",
       "    }\n",
       "</style>\n",
       "<table border=\"1\" class=\"dataframe\">\n",
       "  <thead>\n",
       "    <tr style=\"text-align: right;\">\n",
       "      <th></th>\n",
       "      <th>Segment</th>\n",
       "      <th>Proposed Strategy</th>\n",
       "    </tr>\n",
       "  </thead>\n",
       "  <tbody>\n",
       "    <tr>\n",
       "      <th>0</th>\n",
       "      <td>High-Value</td>\n",
       "      <td>Tiered loyalty program, early access, exclusiv...</td>\n",
       "    </tr>\n",
       "    <tr>\n",
       "      <th>1</th>\n",
       "      <td>Medium-Value</td>\n",
       "      <td>Targeted upselling and cross-selling campaigns.</td>\n",
       "    </tr>\n",
       "    <tr>\n",
       "      <th>2</th>\n",
       "      <td>Low-Value</td>\n",
       "      <td>Cost-effective re-engagement emails with small...</td>\n",
       "    </tr>\n",
       "    <tr>\n",
       "      <th>3</th>\n",
       "      <td>At-Risk/Churn</td>\n",
       "      <td>Final, high-discount \"win-back\" offers.</td>\n",
       "    </tr>\n",
       "  </tbody>\n",
       "</table>\n",
       "</div>"
      ],
      "text/plain": [
       "         Segment                                  Proposed Strategy\n",
       "0     High-Value  Tiered loyalty program, early access, exclusiv...\n",
       "1   Medium-Value    Targeted upselling and cross-selling campaigns.\n",
       "2      Low-Value  Cost-effective re-engagement emails with small...\n",
       "3  At-Risk/Churn            Final, high-discount \"win-back\" offers."
      ]
     },
     "execution_count": 70,
     "metadata": {},
     "output_type": "execute_result"
    }
   ],
   "source": [
    "df_strategies"
   ]
  },
  {
   "cell_type": "code",
   "execution_count": 71,
   "id": "24b50855",
   "metadata": {},
   "outputs": [],
   "source": [
    "# Merge the segment summary with the proposed strategies\n",
    "final_cltv_summary = pd.merge(segment_summary, df_strategies, on='Segment', how='left')\n",
    "final_cltv_summary.set_index('Segment', inplace=True)\n"
   ]
  },
  {
   "cell_type": "code",
   "execution_count": 72,
   "id": "58d73c0c",
   "metadata": {},
   "outputs": [
    {
     "name": "stdout",
     "output_type": "stream",
     "text": [
      "\n",
      "--- Final CLTV Summary with Actionable Strategies ---\n",
      "               Avg_Recency  Avg_Frequency  Avg_Monetary  Avg_Tenure  Avg_AOV  Avg_PurchaseGap  Avg_ProductDiversity  Avg_Predicted_CLTV                                  Proposed Strategy\n",
      "Segment                                                                                                                                                                                   \n",
      "High-Value           20.90          12.03     549572.77      280.18 51349.86             2.18                145.30        112628554.62  Tiered loyalty program, early access, exclusiv...\n",
      "Medium-Value         39.31           2.78      72523.85      139.81 28137.00             1.76                 53.22          4792781.18    Targeted upselling and cross-selling campaigns.\n",
      "Low-Value           104.28           2.22      49529.80      211.26 25226.24             3.65                 37.90          2181551.60  Cost-effective re-engagement emails with small...\n",
      "At-Risk/Churn       226.58           1.71      35311.89      309.89 25590.71             5.80                 25.43          1160765.70            Final, high-discount \"win-back\" offers.\n"
     ]
    }
   ],
   "source": [
    "print(\"\\n--- Final CLTV Summary with Actionable Strategies ---\")\n",
    "print(final_cltv_summary)"
   ]
  },
  {
   "cell_type": "markdown",
   "id": "ee499aaf",
   "metadata": {},
   "source": [
    "#### Saving the final table"
   ]
  },
  {
   "cell_type": "code",
   "execution_count": 73,
   "id": "eb598142",
   "metadata": {},
   "outputs": [
    {
     "name": "stdout",
     "output_type": "stream",
     "text": [
      "\n",
      "Final summary saved to: ../data/processed/final_cltv_summary.csv\n"
     ]
    }
   ],
   "source": [
    "output_path = '../data/processed/final_cltv_summary.csv'\n",
    "final_cltv_summary.to_csv(output_path)\n",
    "print(f\"\\nFinal summary saved to: {output_path}\")\n"
   ]
  },
  {
   "cell_type": "code",
   "execution_count": null,
   "id": "b0987fff",
   "metadata": {},
   "outputs": [],
   "source": []
  }
 ],
 "metadata": {
  "kernelspec": {
   "display_name": "cltv_env",
   "language": "python",
   "name": "python3"
  },
  "language_info": {
   "codemirror_mode": {
    "name": "ipython",
    "version": 3
   },
   "file_extension": ".py",
   "mimetype": "text/x-python",
   "name": "python",
   "nbconvert_exporter": "python",
   "pygments_lexer": "ipython3",
   "version": "3.9.23"
  }
 },
 "nbformat": 4,
 "nbformat_minor": 5
}
