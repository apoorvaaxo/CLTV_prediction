{
 "cells": [
  {
   "cell_type": "markdown",
   "id": "b3dfc9f4",
   "metadata": {},
   "source": [
    "##### Phase Objective: This notebook focuses on applying the CLTV predictions from our previous analysis. We will segment customers into actionable groups and propose tailored business strategies for each segment, showcasing how my data science work can directly drive business value.\n"
   ]
  },
  {
   "cell_type": "code",
   "execution_count": 1,
   "id": "250bdbf6",
   "metadata": {},
   "outputs": [
    {
     "name": "stderr",
     "output_type": "stream",
     "text": [
      "C:\\Users\\DELL\\AppData\\Local\\Temp\\ipykernel_8940\\2083417712.py:1: DeprecationWarning: \n",
      "Pyarrow will become a required dependency of pandas in the next major release of pandas (pandas 3.0),\n",
      "(to allow more performant data types, such as the Arrow string type, and better interoperability with other libraries)\n",
      "but was not found to be installed on your system.\n",
      "If this would cause problems for you,\n",
      "please provide us feedback at https://github.com/pandas-dev/pandas/issues/54466\n",
      "        \n",
      "  import pandas as pd\n"
     ]
    }
   ],
   "source": [
    "\n",
    "import pandas as pd\n",
    "import numpy as np\n",
    "import matplotlib.pyplot as plt\n",
    "import seaborn as sns"
   ]
  },
  {
   "cell_type": "code",
   "execution_count": 2,
   "id": "172699ef",
   "metadata": {},
   "outputs": [],
   "source": [
    "# Set display options for better viewing\n",
    "pd.set_option('display.max_columns', None)\n",
    "pd.set_option('display.width', 1000)\n",
    "pd.set_option('display.float_format', lambda x: '%.2f' % x)"
   ]
  },
  {
   "cell_type": "code",
   "execution_count": 3,
   "id": "d9b93fb5",
   "metadata": {},
   "outputs": [
    {
     "name": "stdout",
     "output_type": "stream",
     "text": [
      "Loading necessary data...\n",
      "Data loaded successfully.\n"
     ]
    }
   ],
   "source": [
    "print(\"Loading necessary data...\")\n",
    "try:\n",
    "    # Load the feature-engineered data (RFM, Tenure, etc.)\n",
    "    df_features = pd.read_csv('../data/processed/customer_features_rfm.csv')\n",
    "    # Load the CLTV predictions from the probabilistic model\n",
    "    df_predictions = pd.read_csv('../data/processed/cltv_predictions_probabilistic.csv')\n",
    "\n",
    "    print(\"Data loaded successfully.\")\n",
    "except FileNotFoundError as e:\n",
    "    print(f\"Error: {e}. Please ensure previous notebooks were run and saved.\")\n",
    "    exit()"
   ]
  },
  {
   "cell_type": "code",
   "execution_count": 9,
   "id": "531babf2",
   "metadata": {},
   "outputs": [
    {
     "data": {
      "text/html": [
       "<div>\n",
       "<style scoped>\n",
       "    .dataframe tbody tr th:only-of-type {\n",
       "        vertical-align: middle;\n",
       "    }\n",
       "\n",
       "    .dataframe tbody tr th {\n",
       "        vertical-align: top;\n",
       "    }\n",
       "\n",
       "    .dataframe thead th {\n",
       "        text-align: right;\n",
       "    }\n",
       "</style>\n",
       "<table border=\"1\" class=\"dataframe\">\n",
       "  <thead>\n",
       "    <tr style=\"text-align: right;\">\n",
       "      <th></th>\n",
       "      <th>CustomerID</th>\n",
       "      <th>Recency</th>\n",
       "      <th>Frequency</th>\n",
       "      <th>Monetary</th>\n",
       "      <th>Tenure</th>\n",
       "      <th>Frequency_model</th>\n",
       "      <th>Recency_Model</th>\n",
       "      <th>AOV</th>\n",
       "      <th>AvgPurchaseGap</th>\n",
       "      <th>ProductDiversity</th>\n",
       "    </tr>\n",
       "  </thead>\n",
       "  <tbody>\n",
       "    <tr>\n",
       "      <th>0</th>\n",
       "      <td>12346</td>\n",
       "      <td>326</td>\n",
       "      <td>1</td>\n",
       "      <td>77183.60</td>\n",
       "      <td>326</td>\n",
       "      <td>0</td>\n",
       "      <td>0</td>\n",
       "      <td>77183.60</td>\n",
       "      <td>0.00</td>\n",
       "      <td>1</td>\n",
       "    </tr>\n",
       "    <tr>\n",
       "      <th>1</th>\n",
       "      <td>12347</td>\n",
       "      <td>2</td>\n",
       "      <td>7</td>\n",
       "      <td>4310.00</td>\n",
       "      <td>367</td>\n",
       "      <td>6</td>\n",
       "      <td>365</td>\n",
       "      <td>615.71</td>\n",
       "      <td>2.00</td>\n",
       "      <td>103</td>\n",
       "    </tr>\n",
       "    <tr>\n",
       "      <th>2</th>\n",
       "      <td>12348</td>\n",
       "      <td>75</td>\n",
       "      <td>4</td>\n",
       "      <td>1797.24</td>\n",
       "      <td>358</td>\n",
       "      <td>3</td>\n",
       "      <td>282</td>\n",
       "      <td>449.31</td>\n",
       "      <td>9.40</td>\n",
       "      <td>22</td>\n",
       "    </tr>\n",
       "    <tr>\n",
       "      <th>3</th>\n",
       "      <td>12349</td>\n",
       "      <td>19</td>\n",
       "      <td>1</td>\n",
       "      <td>1757.55</td>\n",
       "      <td>19</td>\n",
       "      <td>0</td>\n",
       "      <td>0</td>\n",
       "      <td>1757.55</td>\n",
       "      <td>0.00</td>\n",
       "      <td>73</td>\n",
       "    </tr>\n",
       "    <tr>\n",
       "      <th>4</th>\n",
       "      <td>12350</td>\n",
       "      <td>310</td>\n",
       "      <td>1</td>\n",
       "      <td>334.40</td>\n",
       "      <td>310</td>\n",
       "      <td>0</td>\n",
       "      <td>0</td>\n",
       "      <td>334.40</td>\n",
       "      <td>0.00</td>\n",
       "      <td>17</td>\n",
       "    </tr>\n",
       "  </tbody>\n",
       "</table>\n",
       "</div>"
      ],
      "text/plain": [
       "   CustomerID  Recency  Frequency  Monetary  Tenure  Frequency_model  Recency_Model      AOV  AvgPurchaseGap  ProductDiversity\n",
       "0       12346      326          1  77183.60     326                0              0 77183.60            0.00                 1\n",
       "1       12347        2          7   4310.00     367                6            365   615.71            2.00               103\n",
       "2       12348       75          4   1797.24     358                3            282   449.31            9.40                22\n",
       "3       12349       19          1   1757.55      19                0              0  1757.55            0.00                73\n",
       "4       12350      310          1    334.40     310                0              0   334.40            0.00                17"
      ]
     },
     "execution_count": 9,
     "metadata": {},
     "output_type": "execute_result"
    }
   ],
   "source": [
    "df_features.head()"
   ]
  },
  {
   "cell_type": "code",
   "execution_count": 10,
   "id": "cbeacfe3",
   "metadata": {},
   "outputs": [
    {
     "data": {
      "text/html": [
       "<div>\n",
       "<style scoped>\n",
       "    .dataframe tbody tr th:only-of-type {\n",
       "        vertical-align: middle;\n",
       "    }\n",
       "\n",
       "    .dataframe tbody tr th {\n",
       "        vertical-align: top;\n",
       "    }\n",
       "\n",
       "    .dataframe thead th {\n",
       "        text-align: right;\n",
       "    }\n",
       "</style>\n",
       "<table border=\"1\" class=\"dataframe\">\n",
       "  <thead>\n",
       "    <tr style=\"text-align: right;\">\n",
       "      <th></th>\n",
       "      <th>CustomerID</th>\n",
       "      <th>frequency</th>\n",
       "      <th>recency</th>\n",
       "      <th>T</th>\n",
       "      <th>monetary</th>\n",
       "      <th>predicted_cltv</th>\n",
       "    </tr>\n",
       "  </thead>\n",
       "  <tbody>\n",
       "    <tr>\n",
       "      <th>0</th>\n",
       "      <td>12346</td>\n",
       "      <td>0</td>\n",
       "      <td>0</td>\n",
       "      <td>326</td>\n",
       "      <td>77183.60</td>\n",
       "      <td>15144.81</td>\n",
       "    </tr>\n",
       "    <tr>\n",
       "      <th>1</th>\n",
       "      <td>12347</td>\n",
       "      <td>6</td>\n",
       "      <td>365</td>\n",
       "      <td>367</td>\n",
       "      <td>4310.00</td>\n",
       "      <td>186703.91</td>\n",
       "    </tr>\n",
       "    <tr>\n",
       "      <th>2</th>\n",
       "      <td>12348</td>\n",
       "      <td>3</td>\n",
       "      <td>282</td>\n",
       "      <td>358</td>\n",
       "      <td>1797.24</td>\n",
       "      <td>47943.39</td>\n",
       "    </tr>\n",
       "    <tr>\n",
       "      <th>3</th>\n",
       "      <td>12349</td>\n",
       "      <td>0</td>\n",
       "      <td>0</td>\n",
       "      <td>19</td>\n",
       "      <td>1757.55</td>\n",
       "      <td>77680.17</td>\n",
       "    </tr>\n",
       "    <tr>\n",
       "      <th>4</th>\n",
       "      <td>12350</td>\n",
       "      <td>0</td>\n",
       "      <td>0</td>\n",
       "      <td>310</td>\n",
       "      <td>334.40</td>\n",
       "      <td>15800.04</td>\n",
       "    </tr>\n",
       "  </tbody>\n",
       "</table>\n",
       "</div>"
      ],
      "text/plain": [
       "   CustomerID  frequency  recency    T  monetary  predicted_cltv\n",
       "0       12346          0        0  326  77183.60        15144.81\n",
       "1       12347          6      365  367   4310.00       186703.91\n",
       "2       12348          3      282  358   1797.24        47943.39\n",
       "3       12349          0        0   19   1757.55        77680.17\n",
       "4       12350          0        0  310    334.40        15800.04"
      ]
     },
     "execution_count": 10,
     "metadata": {},
     "output_type": "execute_result"
    }
   ],
   "source": [
    "df_predictions.head()"
   ]
  },
  {
   "cell_type": "code",
   "execution_count": 4,
   "id": "1b5939bc",
   "metadata": {},
   "outputs": [
    {
     "name": "stdout",
     "output_type": "stream",
     "text": [
      "\n",
      "Final combined DataFrame shape: (4338, 11)\n"
     ]
    }
   ],
   "source": [
    "# Merge the features and predictions into a single DataFrame for analysis\n",
    "# We will use the CustomerID to join the two dataframes\n",
    "customer_df = pd.merge(df_features, df_predictions[['CustomerID', 'predicted_cltv']], on='CustomerID', how='inner')\n",
    "\n",
    "print(f\"\\nFinal combined DataFrame shape: {customer_df.shape}\")"
   ]
  },
  {
   "cell_type": "code",
   "execution_count": 5,
   "id": "0add2e35",
   "metadata": {},
   "outputs": [
    {
     "name": "stdout",
     "output_type": "stream",
     "text": [
      "Sample of the combined DataFrame:\n",
      "   CustomerID  Recency  Frequency  Monetary  Tenure  Frequency_model  Recency_Model      AOV  AvgPurchaseGap  ProductDiversity  predicted_cltv\n",
      "0       12346      326          1  77183.60     326                0              0 77183.60            0.00                 1        15144.81\n",
      "1       12347        2          7   4310.00     367                6            365   615.71            2.00               103       186703.91\n",
      "2       12348       75          4   1797.24     358                3            282   449.31            9.40                22        47943.39\n",
      "3       12349       19          1   1757.55      19                0              0  1757.55            0.00                73        77680.17\n",
      "4       12350      310          1    334.40     310                0              0   334.40            0.00                17        15800.04\n"
     ]
    }
   ],
   "source": [
    "print(\"Sample of the combined DataFrame:\")\n",
    "print(customer_df.head())"
   ]
  },
  {
   "cell_type": "markdown",
   "id": "1e53eb8f",
   "metadata": {},
   "source": [
    "##### Customer segmentation based on predicted cltv\n",
    "\n",
    "##### We will segment customers into tiers based on their predicted CLTV.\n",
    "##### A common approach is using quantiles (e.g., top 20%, middle 60%, bottom 20%).\n",
    "##### We will create 3 tiers: High-Value, Medium-Value, and Low-Value"
   ]
  },
  {
   "cell_type": "code",
   "execution_count": 6,
   "id": "a0765db7",
   "metadata": {},
   "outputs": [],
   "source": [
    "# Remove any customers with 0 CLTV to focus on those with predicted future spend\n",
    "customer_df = customer_df[customer_df['predicted_cltv'] > 0]\n"
   ]
  },
  {
   "cell_type": "code",
   "execution_count": 8,
   "id": "0352ab53",
   "metadata": {},
   "outputs": [
    {
     "data": {
      "text/html": [
       "<div>\n",
       "<style scoped>\n",
       "    .dataframe tbody tr th:only-of-type {\n",
       "        vertical-align: middle;\n",
       "    }\n",
       "\n",
       "    .dataframe tbody tr th {\n",
       "        vertical-align: top;\n",
       "    }\n",
       "\n",
       "    .dataframe thead th {\n",
       "        text-align: right;\n",
       "    }\n",
       "</style>\n",
       "<table border=\"1\" class=\"dataframe\">\n",
       "  <thead>\n",
       "    <tr style=\"text-align: right;\">\n",
       "      <th></th>\n",
       "      <th>CustomerID</th>\n",
       "      <th>Recency</th>\n",
       "      <th>Frequency</th>\n",
       "      <th>Monetary</th>\n",
       "      <th>Tenure</th>\n",
       "      <th>Frequency_model</th>\n",
       "      <th>Recency_Model</th>\n",
       "      <th>AOV</th>\n",
       "      <th>AvgPurchaseGap</th>\n",
       "      <th>ProductDiversity</th>\n",
       "      <th>predicted_cltv</th>\n",
       "    </tr>\n",
       "  </thead>\n",
       "  <tbody>\n",
       "    <tr>\n",
       "      <th>0</th>\n",
       "      <td>12346</td>\n",
       "      <td>326</td>\n",
       "      <td>1</td>\n",
       "      <td>77183.60</td>\n",
       "      <td>326</td>\n",
       "      <td>0</td>\n",
       "      <td>0</td>\n",
       "      <td>77183.60</td>\n",
       "      <td>0.00</td>\n",
       "      <td>1</td>\n",
       "      <td>15144.81</td>\n",
       "    </tr>\n",
       "    <tr>\n",
       "      <th>1</th>\n",
       "      <td>12347</td>\n",
       "      <td>2</td>\n",
       "      <td>7</td>\n",
       "      <td>4310.00</td>\n",
       "      <td>367</td>\n",
       "      <td>6</td>\n",
       "      <td>365</td>\n",
       "      <td>615.71</td>\n",
       "      <td>2.00</td>\n",
       "      <td>103</td>\n",
       "      <td>186703.91</td>\n",
       "    </tr>\n",
       "    <tr>\n",
       "      <th>2</th>\n",
       "      <td>12348</td>\n",
       "      <td>75</td>\n",
       "      <td>4</td>\n",
       "      <td>1797.24</td>\n",
       "      <td>358</td>\n",
       "      <td>3</td>\n",
       "      <td>282</td>\n",
       "      <td>449.31</td>\n",
       "      <td>9.40</td>\n",
       "      <td>22</td>\n",
       "      <td>47943.39</td>\n",
       "    </tr>\n",
       "    <tr>\n",
       "      <th>3</th>\n",
       "      <td>12349</td>\n",
       "      <td>19</td>\n",
       "      <td>1</td>\n",
       "      <td>1757.55</td>\n",
       "      <td>19</td>\n",
       "      <td>0</td>\n",
       "      <td>0</td>\n",
       "      <td>1757.55</td>\n",
       "      <td>0.00</td>\n",
       "      <td>73</td>\n",
       "      <td>77680.17</td>\n",
       "    </tr>\n",
       "    <tr>\n",
       "      <th>4</th>\n",
       "      <td>12350</td>\n",
       "      <td>310</td>\n",
       "      <td>1</td>\n",
       "      <td>334.40</td>\n",
       "      <td>310</td>\n",
       "      <td>0</td>\n",
       "      <td>0</td>\n",
       "      <td>334.40</td>\n",
       "      <td>0.00</td>\n",
       "      <td>17</td>\n",
       "      <td>15800.04</td>\n",
       "    </tr>\n",
       "  </tbody>\n",
       "</table>\n",
       "</div>"
      ],
      "text/plain": [
       "   CustomerID  Recency  Frequency  Monetary  Tenure  Frequency_model  Recency_Model      AOV  AvgPurchaseGap  ProductDiversity  predicted_cltv\n",
       "0       12346      326          1  77183.60     326                0              0 77183.60            0.00                 1        15144.81\n",
       "1       12347        2          7   4310.00     367                6            365   615.71            2.00               103       186703.91\n",
       "2       12348       75          4   1797.24     358                3            282   449.31            9.40                22        47943.39\n",
       "3       12349       19          1   1757.55      19                0              0  1757.55            0.00                73        77680.17\n",
       "4       12350      310          1    334.40     310                0              0   334.40            0.00                17        15800.04"
      ]
     },
     "execution_count": 8,
     "metadata": {},
     "output_type": "execute_result"
    }
   ],
   "source": [
    "# Remove any customers with 0 CLTV to focus on those with predicted future spend\n",
    "customer_df.head()\n"
   ]
  },
  {
   "cell_type": "markdown",
   "id": "57d66b7e",
   "metadata": {},
   "source": [
    "##### Calculate the quantiles for our tiers"
   ]
  },
  {
   "cell_type": "code",
   "execution_count": 11,
   "id": "a4b5b519",
   "metadata": {},
   "outputs": [
    {
     "name": "stdout",
     "output_type": "stream",
     "text": [
      "\n",
      "CLTV Quantile Tiers:\n",
      "{0.2: 19198.845521963252, 0.5: 43334.83972585184, 0.8: 98269.86207309132}\n"
     ]
    }
   ],
   "source": [
    "\n",
    "quantiles = customer_df['predicted_cltv'].quantile([0.2, 0.5, 0.8]).to_dict()\n",
    "print(\"\\nCLTV Quantile Tiers:\")\n",
    "print(quantiles)"
   ]
  },
  {
   "cell_type": "markdown",
   "id": "d851a91c",
   "metadata": {},
   "source": [
    "##### Function to assign a segment based on predicted CLTV"
   ]
  },
  {
   "cell_type": "code",
   "execution_count": 12,
   "id": "bc8292b9",
   "metadata": {},
   "outputs": [],
   "source": [
    "\n",
    "def cltv_segment(cltv):\n",
    "    if cltv >= quantiles[0.8]:\n",
    "        return 'High-Value'\n",
    "    elif cltv >= quantiles[0.5]:\n",
    "        return 'Medium-Value'\n",
    "    elif cltv >= quantiles[0.2]:\n",
    "        return 'Low-Value'\n",
    "    else:\n",
    "        return 'At-Risk/Churn'"
   ]
  },
  {
   "cell_type": "markdown",
   "id": "27f61314",
   "metadata": {},
   "source": [
    "####  Apply the segmentation function to the DataFrame"
   ]
  },
  {
   "cell_type": "code",
   "execution_count": 13,
   "id": "2a0332db",
   "metadata": {},
   "outputs": [],
   "source": [
    "\n",
    "customer_df['Segment'] = customer_df['predicted_cltv'].apply(cltv_segment)\n"
   ]
  },
  {
   "cell_type": "code",
   "execution_count": 14,
   "id": "f7c61f92",
   "metadata": {},
   "outputs": [
    {
     "name": "stdout",
     "output_type": "stream",
     "text": [
      "\n",
      "Customer counts per segment:\n",
      "Segment\n",
      "Medium-Value     1304\n",
      "Low-Value        1298\n",
      "At-Risk/Churn     868\n",
      "High-Value        868\n",
      "Name: count, dtype: int64\n"
     ]
    }
   ],
   "source": [
    "print(\"\\nCustomer counts per segment:\")\n",
    "print(customer_df['Segment'].value_counts())"
   ]
  },
  {
   "cell_type": "markdown",
   "id": "1b3714ca",
   "metadata": {},
   "source": [
    "####  Now, let's analyze the characteristics of each segment to understand what makes a customer valuable or not. We'll look at the mean of our key features."
   ]
  },
  {
   "cell_type": "code",
   "execution_count": 15,
   "id": "a6e894be",
   "metadata": {},
   "outputs": [],
   "source": [
    "\n",
    "segment_summary = customer_df.groupby('Segment').agg(\n",
    "    # RFM metrics\n",
    "    Avg_Recency=('Recency', 'mean'),\n",
    "    Avg_Frequency=('Frequency', 'mean'),\n",
    "    Avg_Monetary=('Monetary', 'mean'),\n",
    "    Avg_Tenure=('Tenure', 'mean'),\n",
    "    Avg_AOV=('AOV', 'mean'),\n",
    "    Avg_PurchaseGap=('AvgPurchaseGap', 'mean'),\n",
    "    Avg_ProductDiversity=('ProductDiversity', 'mean'),\n",
    "    # Predictions\n",
    "    Avg_Predicted_CLTV=('predicted_cltv', 'mean')\n",
    ").reset_index()"
   ]
  },
  {
   "cell_type": "code",
   "execution_count": 16,
   "id": "e1c4ec60",
   "metadata": {},
   "outputs": [
    {
     "name": "stdout",
     "output_type": "stream",
     "text": [
      "\n",
      "Summary of key customer characteristics by segment:\n",
      "         Segment  Avg_Recency  Avg_Frequency  Avg_Monetary  Avg_Tenure  Avg_AOV  Avg_PurchaseGap  Avg_ProductDiversity  Avg_Predicted_CLTV\n",
      "1     High-Value        20.90          12.03       7327.64      280.18   684.66             2.18                145.30          1501714.06\n",
      "3   Medium-Value        39.31           2.78        966.98      139.81   375.16             1.76                 53.22            63903.75\n",
      "2      Low-Value       104.28           2.22        660.40      211.26   336.35             3.65                 37.90            29087.36\n",
      "0  At-Risk/Churn       226.58           1.71        470.83      309.89   341.21             5.80                 25.43            15476.88\n"
     ]
    }
   ],
   "source": [
    "# Sort by Avg_Predicted_CLTV to show the hierarchy\n",
    "segment_summary.sort_values(by='Avg_Predicted_CLTV', ascending=False, inplace=True)\n",
    "\n",
    "print(\"\\nSummary of key customer characteristics by segment:\")\n",
    "print(segment_summary)\n"
   ]
  },
  {
   "cell_type": "markdown",
   "id": "5c10bd79",
   "metadata": {},
   "source": [
    "#### Visualizations of findings"
   ]
  },
  {
   "cell_type": "code",
   "execution_count": 17,
   "id": "cfb33db4",
   "metadata": {},
   "outputs": [
    {
     "name": "stderr",
     "output_type": "stream",
     "text": [
      "C:\\Users\\DELL\\AppData\\Local\\Temp\\ipykernel_8940\\4116103442.py:2: FutureWarning: \n",
      "\n",
      "Passing `palette` without assigning `hue` is deprecated and will be removed in v0.14.0. Assign the `x` variable to `hue` and set `legend=False` for the same effect.\n",
      "\n",
      "  sns.barplot(x='Segment', y='Avg_Predicted_CLTV', data=segment_summary, palette='viridis')\n"
     ]
    },
    {
     "data": {
      "image/png": "[encoded data removed]",
      "text/plain": [
       "<Figure size 1000x600 with 1 Axes>"
      ]
     },
     "metadata": {},
     "output_type": "display_data"
    }
   ],
   "source": [
    "plt.figure(figsize=(10, 6))\n",
    "sns.barplot(x='Segment', y='Avg_Predicted_CLTV', data=segment_summary, palette='viridis')\n",
    "plt.title('Average Predicted CLTV by Customer Segment')\n",
    "plt.xlabel('Customer Segment')\n",
    "plt.ylabel('Average Predicted CLTV')\n",
    "plt.show()"
   ]
  },
  {
   "cell_type": "markdown",
   "id": "acd457d4",
   "metadata": {},
   "source": [
    "#### Key Insights\n",
    "\n",
    "#### We divided our customers into four segments based on their purchase behavior and predicted future value (CLTV). These are my understanding:\n",
    "\n",
    "#### 1. High-Value Customers\n",
    "- Buy frequently (12+ times on average)\n",
    "- Spend a lot (₹7,327 average total spend)\n",
    "- Recently active (last purchase ~21 days ago)\n",
    "- Very high predicted CLTV (₹15+ lakhs)\n",
    "These are our **most valuable and loyal customers**.  \n",
    "We should focus on **retaining them** with loyalty programs, early offers, and personalized services.\n",
    "\n",
    "---\n",
    "\n",
    "#### 2. Medium-Value Customers\n",
    "- Buy occasionally (~3 times)\n",
    "- Spend a moderate amount (₹966)\n",
    "- Less recent activity (~39 days ago)\n",
    "- Good predicted CLTV (~₹63,000)\n",
    "These are **potentially loyal customers**.  \n",
    "We can **nurture them** with special deals, reminders, and upselling strategies.\n",
    "\n",
    "---\n",
    "\n",
    "#### 3. Low-Value Customers\n",
    "- Few purchases (~2 times)\n",
    "- Lower spend (₹660)\n",
    "- Less frequent (gap between orders is ~3.6 days)\n",
    "- Low predicted CLTV (~₹29,000)\n",
    "These customers show **limited engagement**.  \n",
    "Try **re-engagement campaigns**, product recommendations, or discounts to boost interest.\n",
    "\n",
    "---\n",
    "\n",
    "#### 4. At-Risk / Churn Customers\n",
    "- Haven’t purchased in a long time (~227 days ago)\n",
    "- Low purchase frequency (~1.7)\n",
    "- Lowest spend (₹470)\n",
    "- Lowest predicted CLTV (~₹15,000)\n",
    "These customers are **likely to churn** or have already left.  \n",
    "Consider **win-back campaigns**, surveys, or exit offers to bring them back.\n",
    "\n",
    "---\n",
    "\n",
    "#### Conclusion:\n",
    "This segmentation helps us understand which customers:\n",
    "- Are most profitable (High-Value)\n",
    "- Can be retained or upgraded (Medium & Low-Value)\n",
    "- Need attention before we lose them (At-Risk)\n",
    "\n",
    "\n"
   ]
  },
  {
   "cell_type": "markdown",
   "id": "e96fd885",
   "metadata": {},
   "source": []
  }
 ],
 "metadata": {
  "kernelspec": {
   "display_name": "cltv_env",
   "language": "python",
   "name": "python3"
  },
  "language_info": {
   "codemirror_mode": {
    "name": "ipython",
    "version": 3
   },
   "file_extension": ".py",
   "mimetype": "text/x-python",
   "name": "python",
   "nbconvert_exporter": "python",
   "pygments_lexer": "ipython3",
   "version": "3.9.23"
  }
 },
 "nbformat": 4,
 "nbformat_minor": 5
}
