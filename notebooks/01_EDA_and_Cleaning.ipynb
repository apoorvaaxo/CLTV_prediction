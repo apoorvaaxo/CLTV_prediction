{
 "cells": [
  {
   "cell_type": "code",
   "execution_count": 1,
   "id": "d0a8a7bd",
   "metadata": {},
   "outputs": [
    {
     "name": "stderr",
     "output_type": "stream",
     "text": [
      "C:\\Users\\DELL\\AppData\\Local\\Temp\\ipykernel_10328\\555797462.py:1: DeprecationWarning: \n",
      "Pyarrow will become a required dependency of pandas in the next major release of pandas (pandas 3.0),\n",
      "(to allow more performant data types, such as the Arrow string type, and better interoperability with other libraries)\n",
      "but was not found to be installed on your system.\n",
      "If this would cause problems for you,\n",
      "please provide us feedback at https://github.com/pandas-dev/pandas/issues/54466\n",
      "        \n",
      "  import pandas as pd\n"
     ]
    }
   ],
   "source": [
    "import pandas as pd\n",
    "import numpy as np\n",
    "import matplotlib.pyplot as plt\n",
    "import seaborn as sns"
   ]
  },
  {
   "cell_type": "markdown",
   "id": "4da88c7e",
   "metadata": {},
   "source": [
    "### setting display options for better viewing of dataframes in the notebook"
   ]
  },
  {
   "cell_type": "code",
   "execution_count": 2,
   "id": "6f399316",
   "metadata": {},
   "outputs": [],
   "source": [
    "pd.set_option('display.max_columns',None)\n",
    "pd.set_option('display.width',1000)\n",
    "pd.set_option('display.float_format',lambda x: '%.2f' % x) #formatting floats to two decimal places\n",
    "\n"
   ]
  },
  {
   "cell_type": "markdown",
   "id": "67a0b88d",
   "metadata": {},
   "source": [
    "### loading the dataset"
   ]
  },
  {
   "cell_type": "code",
   "execution_count": 5,
   "id": "a58878e0",
   "metadata": {},
   "outputs": [
    {
     "name": "stdout",
     "output_type": "stream",
     "text": [
      "Dataset loaded successfully\n"
     ]
    }
   ],
   "source": [
    "try:\n",
    "    df=pd.read_excel(\"../data/raw/online_retail.xlsx\")\n",
    "    print(\"Dataset loaded successfully\")\n",
    "except FileNotFoundError:\n",
    "    print(\"File not found!\")"
   ]
  },
  {
   "cell_type": "markdown",
   "id": "3834088d",
   "metadata": {},
   "source": [
    "### Exploring the dataset\n",
    "#### 1. First look at the data"
   ]
  },
  {
   "cell_type": "code",
   "execution_count": 8,
   "id": "ba36df74",
   "metadata": {},
   "outputs": [
    {
     "name": "stdout",
     "output_type": "stream",
     "text": [
      "\n",
      "---First five rows---\n"
     ]
    },
    {
     "data": {
      "text/html": [
       "<div>\n",
       "<style scoped>\n",
       "    .dataframe tbody tr th:only-of-type {\n",
       "        vertical-align: middle;\n",
       "    }\n",
       "\n",
       "    .dataframe tbody tr th {\n",
       "        vertical-align: top;\n",
       "    }\n",
       "\n",
       "    .dataframe thead th {\n",
       "        text-align: right;\n",
       "    }\n",
       "</style>\n",
       "<table border=\"1\" class=\"dataframe\">\n",
       "  <thead>\n",
       "    <tr style=\"text-align: right;\">\n",
       "      <th></th>\n",
       "      <th>InvoiceNo</th>\n",
       "      <th>StockCode</th>\n",
       "      <th>Description</th>\n",
       "      <th>Quantity</th>\n",
       "      <th>InvoiceDate</th>\n",
       "      <th>UnitPrice</th>\n",
       "      <th>CustomerID</th>\n",
       "      <th>Country</th>\n",
       "    </tr>\n",
       "  </thead>\n",
       "  <tbody>\n",
       "    <tr>\n",
       "      <th>0</th>\n",
       "      <td>536365</td>\n",
       "      <td>85123A</td>\n",
       "      <td>WHITE HANGING HEART T-LIGHT HOLDER</td>\n",
       "      <td>6</td>\n",
       "      <td>2010-12-01 08:26:00</td>\n",
       "      <td>2.55</td>\n",
       "      <td>17850.00</td>\n",
       "      <td>United Kingdom</td>\n",
       "    </tr>\n",
       "    <tr>\n",
       "      <th>1</th>\n",
       "      <td>536365</td>\n",
       "      <td>71053</td>\n",
       "      <td>WHITE METAL LANTERN</td>\n",
       "      <td>6</td>\n",
       "      <td>2010-12-01 08:26:00</td>\n",
       "      <td>3.39</td>\n",
       "      <td>17850.00</td>\n",
       "      <td>United Kingdom</td>\n",
       "    </tr>\n",
       "    <tr>\n",
       "      <th>2</th>\n",
       "      <td>536365</td>\n",
       "      <td>84406B</td>\n",
       "      <td>CREAM CUPID HEARTS COAT HANGER</td>\n",
       "      <td>8</td>\n",
       "      <td>2010-12-01 08:26:00</td>\n",
       "      <td>2.75</td>\n",
       "      <td>17850.00</td>\n",
       "      <td>United Kingdom</td>\n",
       "    </tr>\n",
       "    <tr>\n",
       "      <th>3</th>\n",
       "      <td>536365</td>\n",
       "      <td>84029G</td>\n",
       "      <td>KNITTED UNION FLAG HOT WATER BOTTLE</td>\n",
       "      <td>6</td>\n",
       "      <td>2010-12-01 08:26:00</td>\n",
       "      <td>3.39</td>\n",
       "      <td>17850.00</td>\n",
       "      <td>United Kingdom</td>\n",
       "    </tr>\n",
       "    <tr>\n",
       "      <th>4</th>\n",
       "      <td>536365</td>\n",
       "      <td>84029E</td>\n",
       "      <td>RED WOOLLY HOTTIE WHITE HEART.</td>\n",
       "      <td>6</td>\n",
       "      <td>2010-12-01 08:26:00</td>\n",
       "      <td>3.39</td>\n",
       "      <td>17850.00</td>\n",
       "      <td>United Kingdom</td>\n",
       "    </tr>\n",
       "  </tbody>\n",
       "</table>\n",
       "</div>"
      ],
      "text/plain": [
       "  InvoiceNo StockCode                          Description  Quantity         InvoiceDate  UnitPrice  CustomerID         Country\n",
       "0    536365    85123A   WHITE HANGING HEART T-LIGHT HOLDER         6 2010-12-01 08:26:00       2.55    17850.00  United Kingdom\n",
       "1    536365     71053                  WHITE METAL LANTERN         6 2010-12-01 08:26:00       3.39    17850.00  United Kingdom\n",
       "2    536365    84406B       CREAM CUPID HEARTS COAT HANGER         8 2010-12-01 08:26:00       2.75    17850.00  United Kingdom\n",
       "3    536365    84029G  KNITTED UNION FLAG HOT WATER BOTTLE         6 2010-12-01 08:26:00       3.39    17850.00  United Kingdom\n",
       "4    536365    84029E       RED WOOLLY HOTTIE WHITE HEART.         6 2010-12-01 08:26:00       3.39    17850.00  United Kingdom"
      ]
     },
     "execution_count": 8,
     "metadata": {},
     "output_type": "execute_result"
    }
   ],
   "source": [
    "print(\"\\n---First five rows---\")\n",
    "df.head()"
   ]
  },
  {
   "cell_type": "markdown",
   "id": "daeab322",
   "metadata": {},
   "source": [
    "#### Display rows and columns"
   ]
  },
  {
   "cell_type": "code",
   "execution_count": 11,
   "id": "421b9af6",
   "metadata": {},
   "outputs": [
    {
     "data": {
      "text/plain": [
       "(541909, 8)"
      ]
     },
     "execution_count": 11,
     "metadata": {},
     "output_type": "execute_result"
    }
   ],
   "source": [
    "df.shape"
   ]
  },
  {
   "cell_type": "markdown",
   "id": "4f24f3fb",
   "metadata": {},
   "source": [
    "### 2. Data information and types\n",
    "#### Getting a concise summary of the DataFrame including data types , non-null values and memory usage\n",
    "#### This will help us identify the missing values and incorrect data types"
   ]
  },
  {
   "cell_type": "code",
   "execution_count": 9,
   "id": "b2b08886",
   "metadata": {},
   "outputs": [
    {
     "name": "stdout",
     "output_type": "stream",
     "text": [
      "\n",
      "---DataFrame info---\n",
      "<class 'pandas.core.frame.DataFrame'>\n",
      "RangeIndex: 541909 entries, 0 to 541908\n",
      "Data columns (total 8 columns):\n",
      " #   Column       Non-Null Count   Dtype         \n",
      "---  ------       --------------   -----         \n",
      " 0   InvoiceNo    541909 non-null  object        \n",
      " 1   StockCode    541909 non-null  object        \n",
      " 2   Description  540455 non-null  object        \n",
      " 3   Quantity     541909 non-null  int64         \n",
      " 4   InvoiceDate  541909 non-null  datetime64[ns]\n",
      " 5   UnitPrice    541909 non-null  float64       \n",
      " 6   CustomerID   406829 non-null  float64       \n",
      " 7   Country      541909 non-null  object        \n",
      "dtypes: datetime64[ns](1), float64(2), int64(1), object(4)\n",
      "memory usage: 33.1+ MB\n"
     ]
    }
   ],
   "source": [
    "print(\"\\n---DataFrame info---\")\n",
    "df.info()"
   ]
  },
  {
   "cell_type": "markdown",
   "id": "b6293ee8",
   "metadata": {},
   "source": [
    "### 3. Descriptive statistics for numerical columns\n",
    "#### This tells us about the count,max,min,std,mean and quartiles for numeric data"
   ]
  },
  {
   "cell_type": "code",
   "execution_count": 12,
   "id": "900433f0",
   "metadata": {},
   "outputs": [
    {
     "name": "stdout",
     "output_type": "stream",
     "text": [
      "\n",
      "---Descriptive Statistics---\n"
     ]
    },
    {
     "data": {
      "text/html": [
       "<div>\n",
       "<style scoped>\n",
       "    .dataframe tbody tr th:only-of-type {\n",
       "        vertical-align: middle;\n",
       "    }\n",
       "\n",
       "    .dataframe tbody tr th {\n",
       "        vertical-align: top;\n",
       "    }\n",
       "\n",
       "    .dataframe thead th {\n",
       "        text-align: right;\n",
       "    }\n",
       "</style>\n",
       "<table border=\"1\" class=\"dataframe\">\n",
       "  <thead>\n",
       "    <tr style=\"text-align: right;\">\n",
       "      <th></th>\n",
       "      <th>Quantity</th>\n",
       "      <th>InvoiceDate</th>\n",
       "      <th>UnitPrice</th>\n",
       "      <th>CustomerID</th>\n",
       "    </tr>\n",
       "  </thead>\n",
       "  <tbody>\n",
       "    <tr>\n",
       "      <th>count</th>\n",
       "      <td>541909.00</td>\n",
       "      <td>541909</td>\n",
       "      <td>541909.00</td>\n",
       "      <td>406829.00</td>\n",
       "    </tr>\n",
       "    <tr>\n",
       "      <th>mean</th>\n",
       "      <td>9.55</td>\n",
       "      <td>2011-07-04 13:34:57.156386048</td>\n",
       "      <td>4.61</td>\n",
       "      <td>15287.69</td>\n",
       "    </tr>\n",
       "    <tr>\n",
       "      <th>min</th>\n",
       "      <td>-80995.00</td>\n",
       "      <td>2010-12-01 08:26:00</td>\n",
       "      <td>-11062.06</td>\n",
       "      <td>12346.00</td>\n",
       "    </tr>\n",
       "    <tr>\n",
       "      <th>25%</th>\n",
       "      <td>1.00</td>\n",
       "      <td>2011-03-28 11:34:00</td>\n",
       "      <td>1.25</td>\n",
       "      <td>13953.00</td>\n",
       "    </tr>\n",
       "    <tr>\n",
       "      <th>50%</th>\n",
       "      <td>3.00</td>\n",
       "      <td>2011-07-19 17:17:00</td>\n",
       "      <td>2.08</td>\n",
       "      <td>15152.00</td>\n",
       "    </tr>\n",
       "    <tr>\n",
       "      <th>75%</th>\n",
       "      <td>10.00</td>\n",
       "      <td>2011-10-19 11:27:00</td>\n",
       "      <td>4.13</td>\n",
       "      <td>16791.00</td>\n",
       "    </tr>\n",
       "    <tr>\n",
       "      <th>max</th>\n",
       "      <td>80995.00</td>\n",
       "      <td>2011-12-09 12:50:00</td>\n",
       "      <td>38970.00</td>\n",
       "      <td>18287.00</td>\n",
       "    </tr>\n",
       "    <tr>\n",
       "      <th>std</th>\n",
       "      <td>218.08</td>\n",
       "      <td>NaN</td>\n",
       "      <td>96.76</td>\n",
       "      <td>1713.60</td>\n",
       "    </tr>\n",
       "  </tbody>\n",
       "</table>\n",
       "</div>"
      ],
      "text/plain": [
       "       Quantity                    InvoiceDate  UnitPrice  CustomerID\n",
       "count 541909.00                         541909  541909.00   406829.00\n",
       "mean       9.55  2011-07-04 13:34:57.156386048       4.61    15287.69\n",
       "min   -80995.00            2010-12-01 08:26:00  -11062.06    12346.00\n",
       "25%        1.00            2011-03-28 11:34:00       1.25    13953.00\n",
       "50%        3.00            2011-07-19 17:17:00       2.08    15152.00\n",
       "75%       10.00            2011-10-19 11:27:00       4.13    16791.00\n",
       "max    80995.00            2011-12-09 12:50:00   38970.00    18287.00\n",
       "std      218.08                            NaN      96.76     1713.60"
      ]
     },
     "execution_count": 12,
     "metadata": {},
     "output_type": "execute_result"
    }
   ],
   "source": [
    "print(\"\\n---Descriptive Statistics---\")\n",
    "df.describe()"
   ]
  },
  {
   "cell_type": "markdown",
   "id": "9df778ed",
   "metadata": {},
   "source": [
    "### 4. Check missing values in the dataset for each column."
   ]
  },
  {
   "cell_type": "code",
   "execution_count": 13,
   "id": "4e179bf4",
   "metadata": {},
   "outputs": [
    {
     "name": "stdout",
     "output_type": "stream",
     "text": [
      "\n",
      "---Missing values check---\n"
     ]
    },
    {
     "data": {
      "text/plain": [
       "InvoiceNo           0\n",
       "StockCode           0\n",
       "Description      1454\n",
       "Quantity            0\n",
       "InvoiceDate         0\n",
       "UnitPrice           0\n",
       "CustomerID     135080\n",
       "Country             0\n",
       "dtype: int64"
      ]
     },
     "execution_count": 13,
     "metadata": {},
     "output_type": "execute_result"
    }
   ],
   "source": [
    "print(\"\\n---Missing values check---\")\n",
    "df.isnull().sum()"
   ]
  },
  {
   "cell_type": "markdown",
   "id": "4cec4ec5",
   "metadata": {},
   "source": [
    "### Calculate the percentage of missing values"
   ]
  },
  {
   "cell_type": "code",
   "execution_count": 14,
   "id": "bd96c1bd",
   "metadata": {},
   "outputs": [
    {
     "data": {
      "text/plain": [
       "InvoiceNo      0.00\n",
       "StockCode      0.00\n",
       "Description    0.27\n",
       "Quantity       0.00\n",
       "InvoiceDate    0.00\n",
       "UnitPrice      0.00\n",
       "CustomerID    24.93\n",
       "Country        0.00\n",
       "dtype: float64"
      ]
     },
     "execution_count": 14,
     "metadata": {},
     "output_type": "execute_result"
    }
   ],
   "source": [
    "df.isnull().sum() / len(df) * 100"
   ]
  },
  {
   "cell_type": "markdown",
   "id": "958d8565",
   "metadata": {},
   "source": [
    "### 5. Check unique values for key categorical / identifier columns. \n",
    "#### This gives us an insight into the cardinality and diversity of customers , products etc.\n"
   ]
  },
  {
   "cell_type": "code",
   "execution_count": 15,
   "id": "cc65852d",
   "metadata": {},
   "outputs": [
    {
     "name": "stdout",
     "output_type": "stream",
     "text": [
      "\n",
      "---Unique values for key columns---\n",
      "Unique InvoiceNo 25900\n",
      "Unique StockCode 4070\n",
      "Unique Description 4223\n",
      "Unique CustomerID 4372\n",
      "Unique Country 38\n"
     ]
    }
   ],
   "source": [
    "print(\"\\n---Unique values for key columns---\")\n",
    "print(\"Unique InvoiceNo\" , df['InvoiceNo'].nunique())\n",
    "print(\"Unique StockCode\" , df['StockCode'].nunique())\n",
    "print(\"Unique Description\" , df['Description'].nunique())\n",
    "print(\"Unique CustomerID\" , df['CustomerID'].nunique())\n",
    "print(\"Unique Country\" , df['Country'].nunique())"
   ]
  },
  {
   "cell_type": "markdown",
   "id": "6edede0b",
   "metadata": {},
   "source": [
    "### 6. Detailed Inspection of critical columns to inspect for anomalies or insights.\n",
    "#### InvoiceDate - checking the time range of the data."
   ]
  },
  {
   "cell_type": "code",
   "execution_count": 19,
   "id": "72e195d3",
   "metadata": {},
   "outputs": [
    {
     "name": "stdout",
     "output_type": "stream",
     "text": [
      "\n",
      "--- InvoiceDate Range ---\n",
      "Minimum InvoiceDate 2010-12-01 08:26:00\n",
      "Maximum InvoiceDate 2011-12-09 12:50:00\n",
      "Data spans: 373 days\n"
     ]
    }
   ],
   "source": [
    "print(\"\\n--- InvoiceDate Range ---\")\n",
    "print(\"Minimum InvoiceDate\", df['InvoiceDate'].min())\n",
    "print(\"Maximum InvoiceDate\", df['InvoiceDate'].max())\n",
    "print(f\"Data spans: {(df['InvoiceDate'].max() - df['InvoiceDate'].min()).days} days\")"
   ]
  },
  {
   "cell_type": "markdown",
   "id": "a90708be",
   "metadata": {},
   "source": [
    "### Quantity - Check for negative values (returns)"
   ]
  },
  {
   "cell_type": "code",
   "execution_count": 20,
   "id": "7acbfb67",
   "metadata": {},
   "outputs": [
    {
     "name": "stdout",
     "output_type": "stream",
     "text": [
      "\n",
      "--- Quantity Analysis ---\n",
      "Number of transactions with negative Quantity (returns/cancellations): 10624\n",
      "Percentage of negative Quantity transactions: 1.96%\n"
     ]
    }
   ],
   "source": [
    "print(\"\\n--- Quantity Analysis ---\")\n",
    "negative_quantity_count = df[df['Quantity'] < 0].shape[0]\n",
    "print(f\"Number of transactions with negative Quantity (returns/cancellations): {negative_quantity_count}\")\n",
    "print(f\"Percentage of negative Quantity transactions: {(negative_quantity_count / df.shape[0]) * 100:.2f}%\")\n",
    "\n"
   ]
  },
  {
   "cell_type": "code",
   "execution_count": 23,
   "id": "86154ec6",
   "metadata": {},
   "outputs": [
    {
     "name": "stdout",
     "output_type": "stream",
     "text": [
      "Examples of negative Quantity transactions:\n",
      "    InvoiceNo StockCode                       Description  Quantity         InvoiceDate  UnitPrice  CustomerID         Country\n",
      "141   C536379         D                          Discount        -1 2010-12-01 09:41:00      27.50    14527.00  United Kingdom\n",
      "154   C536383    35004C   SET OF 3 COLOURED  FLYING DUCKS        -1 2010-12-01 09:49:00       4.65    15311.00  United Kingdom\n",
      "235   C536391     22556    PLASTERS IN TIN CIRCUS PARADE        -12 2010-12-01 10:24:00       1.65    17548.00  United Kingdom\n",
      "236   C536391     21984  PACK OF 12 PINK PAISLEY TISSUES        -24 2010-12-01 10:24:00       0.29    17548.00  United Kingdom\n",
      "237   C536391     21983  PACK OF 12 BLUE PAISLEY TISSUES        -24 2010-12-01 10:24:00       0.29    17548.00  United Kingdom\n"
     ]
    }
   ],
   "source": [
    "# Display some rows with negative quantity to understand their characteristics\n",
    "print(\"Examples of negative Quantity transactions:\")\n",
    "print(df[df['Quantity'] < 0].head())"
   ]
  },
  {
   "cell_type": "markdown",
   "id": "517ee306",
   "metadata": {},
   "source": [
    "### UnitPrice - Investigate zero or negative values"
   ]
  },
  {
   "cell_type": "code",
   "execution_count": 24,
   "id": "5c146433",
   "metadata": {},
   "outputs": [
    {
     "name": "stdout",
     "output_type": "stream",
     "text": [
      "\n",
      "--- UnitPrice Analysis ---\n",
      "Number of transactions with non-positive UnitPrice: 2517\n",
      "Percentage of non-positive UnitPrice transactions: 0.46%\n"
     ]
    }
   ],
   "source": [
    "print(\"\\n--- UnitPrice Analysis ---\")\n",
    "non_positive_price_count = df[df['UnitPrice'] <= 0].shape[0]\n",
    "print(f\"Number of transactions with non-positive UnitPrice: {non_positive_price_count}\")\n",
    "print(f\"Percentage of non-positive UnitPrice transactions: {(non_positive_price_count / df.shape[0]) * 100:.2f}%\")\n"
   ]
  },
  {
   "cell_type": "code",
   "execution_count": 25,
   "id": "c32c60e0",
   "metadata": {},
   "outputs": [
    {
     "name": "stdout",
     "output_type": "stream",
     "text": [
      "Examples of non-positive UnitPrice transactions:\n",
      "     InvoiceNo StockCode Description  Quantity         InvoiceDate  UnitPrice  CustomerID         Country\n",
      "622     536414     22139         NaN        56 2010-12-01 11:52:00       0.00         NaN  United Kingdom\n",
      "1970    536545     21134         NaN         1 2010-12-01 14:32:00       0.00         NaN  United Kingdom\n",
      "1971    536546     22145         NaN         1 2010-12-01 14:33:00       0.00         NaN  United Kingdom\n",
      "1972    536547     37509         NaN         1 2010-12-01 14:33:00       0.00         NaN  United Kingdom\n",
      "1987    536549    85226A         NaN         1 2010-12-01 14:34:00       0.00         NaN  United Kingdom\n"
     ]
    }
   ],
   "source": [
    "# Display some rows with non-positive price\n",
    "print(\"Examples of non-positive UnitPrice transactions:\")\n",
    "print(df[df['UnitPrice'] <= 0].head())"
   ]
  },
  {
   "cell_type": "markdown",
   "id": "6c4c151f",
   "metadata": {},
   "source": [
    "### CustomerID - Check missing values in it"
   ]
  },
  {
   "cell_type": "code",
   "execution_count": 28,
   "id": "358a46f3",
   "metadata": {},
   "outputs": [
    {
     "name": "stdout",
     "output_type": "stream",
     "text": [
      "\n",
      "--- CustomerID Missing Data ---\n",
      "Number of rows with missing CustomerID: 135080\n",
      "Examples of transactions with missing CustomerID:\n",
      "     InvoiceNo StockCode                      Description  Quantity         InvoiceDate  UnitPrice  CustomerID         Country\n",
      "622     536414     22139                              NaN        56 2010-12-01 11:52:00       0.00         NaN  United Kingdom\n",
      "1443    536544     21773  DECORATIVE ROSE BATHROOM BOTTLE         1 2010-12-01 14:32:00       2.51         NaN  United Kingdom\n",
      "1444    536544     21774  DECORATIVE CATS BATHROOM BOTTLE         2 2010-12-01 14:32:00       2.51         NaN  United Kingdom\n",
      "1445    536544     21786               POLKADOT RAIN HAT          4 2010-12-01 14:32:00       0.85         NaN  United Kingdom\n",
      "1446    536544     21787            RAIN PONCHO RETROSPOT         2 2010-12-01 14:32:00       1.66         NaN  United Kingdom\n"
     ]
    }
   ],
   "source": [
    "print(\"\\n--- CustomerID Missing Data ---\")\n",
    "missing_customerid_df = df[df['CustomerID'].isnull()]\n",
    "print(f\"Number of rows with missing CustomerID: {missing_customerid_df.shape[0]}\")\n",
    "print(\"Examples of transactions with missing CustomerID:\")\n",
    "print(missing_customerid_df.head())\n"
   ]
  },
  {
   "cell_type": "code",
   "execution_count": 27,
   "id": "bdd4c0a0",
   "metadata": {},
   "outputs": [
    {
     "name": "stdout",
     "output_type": "stream",
     "text": [
      "Countries associated with missing CustomerIDs (top 5):\n",
      "Country\n",
      "United Kingdom    133600\n",
      "EIRE                 711\n",
      "Hong Kong            288\n",
      "Unspecified          202\n",
      "Switzerland          125\n",
      "Name: count, dtype: int64\n"
     ]
    }
   ],
   "source": [
    "# Observe if these missing IDs correspond to specific countries or descriptions.\n",
    "print(\"Countries associated with missing CustomerIDs (top 5):\")\n",
    "print(missing_customerid_df['Country'].value_counts().head())"
   ]
  },
  {
   "cell_type": "markdown",
   "id": "31fc05fd",
   "metadata": {},
   "source": [
    "## Key Observations and Data Quality Issues got from the above analysis:\n",
    "\n",
    "Based on the initial data exploration, here are the critical observations and data quality issues that need to be addressed before proceeding with CLTV analysis:\n",
    "\n",
    "* **Missing `CustomerID`**: A significant portion  of the rows have missing `CustomerID`. Since CLTV is calculated per customer, these records are unusable for our primary goal.\n",
    "    * *Decision:* These rows must be removed.\n",
    "* **Negative `Quantity`**: The `Quantity` column contains negative values (e.g., -1, -12, -24). These typically represent returns or cancellations. The `InvoiceNo` for these often starts with 'C'.\n",
    "    * *Decision:* For predicting positive customer value (lifetime *revenue*), these transactions should be filtered out. We are interested in actual purchases.\n",
    "* **Zero or Negative `UnitPrice`**: Some transactions show a `UnitPrice` of 0 or even negative values. These transactions contribute no monetary value and could indicate data entry errors or specific promotional items.\n",
    "    * *Decision:* Filter out these transactions as they do not contribute to revenue for CLTV calculation.\n",
    "* **`InvoiceDate` Data Type**: The `df.info()` output indicates `InvoiceDate` is an `object` type (or sometimes datetime if pandas infers it immediately). For time-based analysis (like calculating Recency, Frequency, and Customer Tenure), it must be converted to a proper `datetime` format.\n",
    "    * *Decision:* Convert `InvoiceDate` to datetime objects.\n",
    "* **`TotalPrice` Calculation**: The dataset does not have a `TotalPrice` column per line item. This needs to be calculated by multiplying `Quantity` by `UnitPrice`.\n",
    "    * *Decision:* Create a new `TotalPrice` column.\n",
    "\n",
    "\n"
   ]
  },
  {
   "cell_type": "code",
   "execution_count": null,
   "id": "9c96bcae",
   "metadata": {},
   "outputs": [],
   "source": []
  }
 ],
 "metadata": {
  "kernelspec": {
   "display_name": "cltv_env",
   "language": "python",
   "name": "python3"
  },
  "language_info": {
   "codemirror_mode": {
    "name": "ipython",
    "version": 3
   },
   "file_extension": ".py",
   "mimetype": "text/x-python",
   "name": "python",
   "nbconvert_exporter": "python",
   "pygments_lexer": "ipython3",
   "version": "3.9.23"
  }
 },
 "nbformat": 4,
 "nbformat_minor": 5
}
