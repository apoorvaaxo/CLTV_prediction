{
 "cells": [
  {
   "cell_type": "code",
   "execution_count": 1,
   "id": "d0a8a7bd",
   "metadata": {},
   "outputs": [
    {
     "name": "stderr",
     "output_type": "stream",
     "text": [
      "C:\\Users\\DELL\\AppData\\Local\\Temp\\ipykernel_10328\\555797462.py:1: DeprecationWarning: \n",
      "Pyarrow will become a required dependency of pandas in the next major release of pandas (pandas 3.0),\n",
      "(to allow more performant data types, such as the Arrow string type, and better interoperability with other libraries)\n",
      "but was not found to be installed on your system.\n",
      "If this would cause problems for you,\n",
      "please provide us feedback at https://github.com/pandas-dev/pandas/issues/54466\n",
      "        \n",
      "  import pandas as pd\n"
     ]
    }
   ],
   "source": [
    "import pandas as pd\n",
    "import numpy as np\n",
    "import matplotlib.pyplot as plt\n",
    "import seaborn as sns"
   ]
  },
  {
   "cell_type": "markdown",
   "id": "4da88c7e",
   "metadata": {},
   "source": [
    "### setting display options for better viewing of dataframes in the notebook"
   ]
  },
  {
   "cell_type": "code",
   "execution_count": 2,
   "id": "6f399316",
   "metadata": {},
   "outputs": [],
   "source": [
    "pd.set_option('display.max_columns',None)\n",
    "pd.set_option('display.width',1000)\n",
    "pd.set_option('display.float_format',lambda x: '%.2f' % x) #formatting floats to two decimal places\n",
    "\n"
   ]
  },
  {
   "cell_type": "markdown",
   "id": "67a0b88d",
   "metadata": {},
   "source": [
    "### loading the dataset"
   ]
  },
  {
   "cell_type": "code",
   "execution_count": 5,
   "id": "a58878e0",
   "metadata": {},
   "outputs": [
    {
     "name": "stdout",
     "output_type": "stream",
     "text": [
      "Dataset loaded successfully\n"
     ]
    }
   ],
   "source": [
    "try:\n",
    "    df=pd.read_excel(\"../data/raw/online_retail.xlsx\")\n",
    "    print(\"Dataset loaded successfully\")\n",
    "except FileNotFoundError:\n",
    "    print(\"File not found!\")"
   ]
  },
  {
   "cell_type": "markdown",
   "id": "3834088d",
   "metadata": {},
   "source": [
    "### Exploring the dataset\n",
    "#### 1. First look at the data"
   ]
  },
  {
   "cell_type": "code",
   "execution_count": 8,
   "id": "ba36df74",
   "metadata": {},
   "outputs": [
    {
     "name": "stdout",
     "output_type": "stream",
     "text": [
      "\n",
      "---First five rows---\n"
     ]
    },
    {
     "data": {
      "text/html": [
       "<div>\n",
       "<style scoped>\n",
       "    .dataframe tbody tr th:only-of-type {\n",
       "        vertical-align: middle;\n",
       "    }\n",
       "\n",
       "    .dataframe tbody tr th {\n",
       "        vertical-align: top;\n",
       "    }\n",
       "\n",
       "    .dataframe thead th {\n",
       "        text-align: right;\n",
       "    }\n",
       "</style>\n",
       "<table border=\"1\" class=\"dataframe\">\n",
       "  <thead>\n",
       "    <tr style=\"text-align: right;\">\n",
       "      <th></th>\n",
       "      <th>InvoiceNo</th>\n",
       "      <th>StockCode</th>\n",
       "      <th>Description</th>\n",
       "      <th>Quantity</th>\n",
       "      <th>InvoiceDate</th>\n",
       "      <th>UnitPrice</th>\n",
       "      <th>CustomerID</th>\n",
       "      <th>Country</th>\n",
       "    </tr>\n",
       "  </thead>\n",
       "  <tbody>\n",
       "    <tr>\n",
       "      <th>0</th>\n",
       "      <td>536365</td>\n",
       "      <td>85123A</td>\n",
       "      <td>WHITE HANGING HEART T-LIGHT HOLDER</td>\n",
       "      <td>6</td>\n",
       "      <td>2010-12-01 08:26:00</td>\n",
       "      <td>2.55</td>\n",
       "      <td>17850.00</td>\n",
       "      <td>United Kingdom</td>\n",
       "    </tr>\n",
       "    <tr>\n",
       "      <th>1</th>\n",
       "      <td>536365</td>\n",
       "      <td>71053</td>\n",
       "      <td>WHITE METAL LANTERN</td>\n",
       "      <td>6</td>\n",
       "      <td>2010-12-01 08:26:00</td>\n",
       "      <td>3.39</td>\n",
       "      <td>17850.00</td>\n",
       "      <td>United Kingdom</td>\n",
       "    </tr>\n",
       "    <tr>\n",
       "      <th>2</th>\n",
       "      <td>536365</td>\n",
       "      <td>84406B</td>\n",
       "      <td>CREAM CUPID HEARTS COAT HANGER</td>\n",
       "      <td>8</td>\n",
       "      <td>2010-12-01 08:26:00</td>\n",
       "      <td>2.75</td>\n",
       "      <td>17850.00</td>\n",
       "      <td>United Kingdom</td>\n",
       "    </tr>\n",
       "    <tr>\n",
       "      <th>3</th>\n",
       "      <td>536365</td>\n",
       "      <td>84029G</td>\n",
       "      <td>KNITTED UNION FLAG HOT WATER BOTTLE</td>\n",
       "      <td>6</td>\n",
       "      <td>2010-12-01 08:26:00</td>\n",
       "      <td>3.39</td>\n",
       "      <td>17850.00</td>\n",
       "      <td>United Kingdom</td>\n",
       "    </tr>\n",
       "    <tr>\n",
       "      <th>4</th>\n",
       "      <td>536365</td>\n",
       "      <td>84029E</td>\n",
       "      <td>RED WOOLLY HOTTIE WHITE HEART.</td>\n",
       "      <td>6</td>\n",
       "      <td>2010-12-01 08:26:00</td>\n",
       "      <td>3.39</td>\n",
       "      <td>17850.00</td>\n",
       "      <td>United Kingdom</td>\n",
       "    </tr>\n",
       "  </tbody>\n",
       "</table>\n",
       "</div>"
      ],
      "text/plain": [
       "  InvoiceNo StockCode                          Description  Quantity         InvoiceDate  UnitPrice  CustomerID         Country\n",
       "0    536365    85123A   WHITE HANGING HEART T-LIGHT HOLDER         6 2010-12-01 08:26:00       2.55    17850.00  United Kingdom\n",
       "1    536365     71053                  WHITE METAL LANTERN         6 2010-12-01 08:26:00       3.39    17850.00  United Kingdom\n",
       "2    536365    84406B       CREAM CUPID HEARTS COAT HANGER         8 2010-12-01 08:26:00       2.75    17850.00  United Kingdom\n",
       "3    536365    84029G  KNITTED UNION FLAG HOT WATER BOTTLE         6 2010-12-01 08:26:00       3.39    17850.00  United Kingdom\n",
       "4    536365    84029E       RED WOOLLY HOTTIE WHITE HEART.         6 2010-12-01 08:26:00       3.39    17850.00  United Kingdom"
      ]
     },
     "execution_count": 8,
     "metadata": {},
     "output_type": "execute_result"
    }
   ],
   "source": [
    "print(\"\\n---First five rows---\")\n",
    "df.head()"
   ]
  },
  {
   "cell_type": "markdown",
   "id": "daeab322",
   "metadata": {},
   "source": [
    "#### Display rows and columns"
   ]
  },
  {
   "cell_type": "code",
   "execution_count": 11,
   "id": "421b9af6",
   "metadata": {},
   "outputs": [
    {
     "data": {
      "text/plain": [
       "(541909, 8)"
      ]
     },
     "execution_count": 11,
     "metadata": {},
     "output_type": "execute_result"
    }
   ],
   "source": [
    "df.shape"
   ]
  },
  {
   "cell_type": "markdown",
   "id": "4f24f3fb",
   "metadata": {},
   "source": [
    "### 2. Data information and types\n",
    "#### Getting a concise summary of the DataFrame including data types , non-null values and memory usage\n",
    "#### This will help us identify the missing values and incorrect data types"
   ]
  },
  {
   "cell_type": "code",
   "execution_count": 9,
   "id": "b2b08886",
   "metadata": {},
   "outputs": [
    {
     "name": "stdout",
     "output_type": "stream",
     "text": [
      "\n",
      "---DataFrame info---\n",
      "<class 'pandas.core.frame.DataFrame'>\n",
      "RangeIndex: 541909 entries, 0 to 541908\n",
      "Data columns (total 8 columns):\n",
      " #   Column       Non-Null Count   Dtype         \n",
      "---  ------       --------------   -----         \n",
      " 0   InvoiceNo    541909 non-null  object        \n",
      " 1   StockCode    541909 non-null  object        \n",
      " 2   Description  540455 non-null  object        \n",
      " 3   Quantity     541909 non-null  int64         \n",
      " 4   InvoiceDate  541909 non-null  datetime64[ns]\n",
      " 5   UnitPrice    541909 non-null  float64       \n",
      " 6   CustomerID   406829 non-null  float64       \n",
      " 7   Country      541909 non-null  object        \n",
      "dtypes: datetime64[ns](1), float64(2), int64(1), object(4)\n",
      "memory usage: 33.1+ MB\n"
     ]
    }
   ],
   "source": [
    "print(\"\\n---DataFrame info---\")\n",
    "df.info()"
   ]
  },
  {
   "cell_type": "markdown",
   "id": "b6293ee8",
   "metadata": {},
   "source": [
    "### 3. Descriptive statistics for numerical columns\n",
    "#### This tells us about the count,max,min,std,mean and quartiles for numeric data"
   ]
  },
  {
   "cell_type": "code",
   "execution_count": 12,
   "id": "900433f0",
   "metadata": {},
   "outputs": [
    {
     "name": "stdout",
     "output_type": "stream",
     "text": [
      "\n",
      "---Descriptive Statistics---\n"
     ]
    },
    {
     "data": {
      "text/html": [
       "<div>\n",
       "<style scoped>\n",
       "    .dataframe tbody tr th:only-of-type {\n",
       "        vertical-align: middle;\n",
       "    }\n",
       "\n",
       "    .dataframe tbody tr th {\n",
       "        vertical-align: top;\n",
       "    }\n",
       "\n",
       "    .dataframe thead th {\n",
       "        text-align: right;\n",
       "    }\n",
       "</style>\n",
       "<table border=\"1\" class=\"dataframe\">\n",
       "  <thead>\n",
       "    <tr style=\"text-align: right;\">\n",
       "      <th></th>\n",
       "      <th>Quantity</th>\n",
       "      <th>InvoiceDate</th>\n",
       "      <th>UnitPrice</th>\n",
       "      <th>CustomerID</th>\n",
       "    </tr>\n",
       "  </thead>\n",
       "  <tbody>\n",
       "    <tr>\n",
       "      <th>count</th>\n",
       "      <td>541909.00</td>\n",
       "      <td>541909</td>\n",
       "      <td>541909.00</td>\n",
       "      <td>406829.00</td>\n",
       "    </tr>\n",
       "    <tr>\n",
       "      <th>mean</th>\n",
       "      <td>9.55</td>\n",
       "      <td>2011-07-04 13:34:57.156386048</td>\n",
       "      <td>4.61</td>\n",
       "      <td>15287.69</td>\n",
       "    </tr>\n",
       "    <tr>\n",
       "      <th>min</th>\n",
       "      <td>-80995.00</td>\n",
       "      <td>2010-12-01 08:26:00</td>\n",
       "      <td>-11062.06</td>\n",
       "      <td>12346.00</td>\n",
       "    </tr>\n",
       "    <tr>\n",
       "      <th>25%</th>\n",
       "      <td>1.00</td>\n",
       "      <td>2011-03-28 11:34:00</td>\n",
       "      <td>1.25</td>\n",
       "      <td>13953.00</td>\n",
       "    </tr>\n",
       "    <tr>\n",
       "      <th>50%</th>\n",
       "      <td>3.00</td>\n",
       "      <td>2011-07-19 17:17:00</td>\n",
       "      <td>2.08</td>\n",
       "      <td>15152.00</td>\n",
       "    </tr>\n",
       "    <tr>\n",
       "      <th>75%</th>\n",
       "      <td>10.00</td>\n",
       "      <td>2011-10-19 11:27:00</td>\n",
       "      <td>4.13</td>\n",
       "      <td>16791.00</td>\n",
       "    </tr>\n",
       "    <tr>\n",
       "      <th>max</th>\n",
       "      <td>80995.00</td>\n",
       "      <td>2011-12-09 12:50:00</td>\n",
       "      <td>38970.00</td>\n",
       "      <td>18287.00</td>\n",
       "    </tr>\n",
       "    <tr>\n",
       "      <th>std</th>\n",
       "      <td>218.08</td>\n",
       "      <td>NaN</td>\n",
       "      <td>96.76</td>\n",
       "      <td>1713.60</td>\n",
       "    </tr>\n",
       "  </tbody>\n",
       "</table>\n",
       "</div>"
      ],
      "text/plain": [
       "       Quantity                    InvoiceDate  UnitPrice  CustomerID\n",
       "count 541909.00                         541909  541909.00   406829.00\n",
       "mean       9.55  2011-07-04 13:34:57.156386048       4.61    15287.69\n",
       "min   -80995.00            2010-12-01 08:26:00  -11062.06    12346.00\n",
       "25%        1.00            2011-03-28 11:34:00       1.25    13953.00\n",
       "50%        3.00            2011-07-19 17:17:00       2.08    15152.00\n",
       "75%       10.00            2011-10-19 11:27:00       4.13    16791.00\n",
       "max    80995.00            2011-12-09 12:50:00   38970.00    18287.00\n",
       "std      218.08                            NaN      96.76     1713.60"
      ]
     },
     "execution_count": 12,
     "metadata": {},
     "output_type": "execute_result"
    }
   ],
   "source": [
    "print(\"\\n---Descriptive Statistics---\")\n",
    "df.describe()"
   ]
  },
  {
   "cell_type": "markdown",
   "id": "9df778ed",
   "metadata": {},
   "source": [
    "### 4. Check missing values in the dataset for each column."
   ]
  },
  {
   "cell_type": "code",
   "execution_count": 13,
   "id": "4e179bf4",
   "metadata": {},
   "outputs": [
    {
     "name": "stdout",
     "output_type": "stream",
     "text": [
      "\n",
      "---Missing values check---\n"
     ]
    },
    {
     "data": {
      "text/plain": [
       "InvoiceNo           0\n",
       "StockCode           0\n",
       "Description      1454\n",
       "Quantity            0\n",
       "InvoiceDate         0\n",
       "UnitPrice           0\n",
       "CustomerID     135080\n",
       "Country             0\n",
       "dtype: int64"
      ]
     },
     "execution_count": 13,
     "metadata": {},
     "output_type": "execute_result"
    }
   ],
   "source": [
    "print(\"\\n---Missing values check---\")\n",
    "df.isnull().sum()"
   ]
  },
  {
   "cell_type": "markdown",
   "id": "4cec4ec5",
   "metadata": {},
   "source": [
    "### Calculate the percentage of missing values"
   ]
  },
  {
   "cell_type": "code",
   "execution_count": 14,
   "id": "bd96c1bd",
   "metadata": {},
   "outputs": [
    {
     "data": {
      "text/plain": [
       "InvoiceNo      0.00\n",
       "StockCode      0.00\n",
       "Description    0.27\n",
       "Quantity       0.00\n",
       "InvoiceDate    0.00\n",
       "UnitPrice      0.00\n",
       "CustomerID    24.93\n",
       "Country        0.00\n",
       "dtype: float64"
      ]
     },
     "execution_count": 14,
     "metadata": {},
     "output_type": "execute_result"
    }
   ],
   "source": [
    "df.isnull().sum() / len(df) * 100"
   ]
  },
  {
   "cell_type": "markdown",
   "id": "958d8565",
   "metadata": {},
   "source": [
    "### 5. Check unique values for key categorical / identifier columns. \n",
    "#### This gives us an insight into the cardinality and diversity of customers , products etc.\n"
   ]
  },
  {
   "cell_type": "code",
   "execution_count": 15,
   "id": "cc65852d",
   "metadata": {},
   "outputs": [
    {
     "name": "stdout",
     "output_type": "stream",
     "text": [
      "\n",
      "---Unique values for key columns---\n",
      "Unique InvoiceNo 25900\n",
      "Unique StockCode 4070\n",
      "Unique Description 4223\n",
      "Unique CustomerID 4372\n",
      "Unique Country 38\n"
     ]
    }
   ],
   "source": [
    "print(\"\\n---Unique values for key columns---\")\n",
    "print(\"Unique InvoiceNo\" , df['InvoiceNo'].nunique())\n",
    "print(\"Unique StockCode\" , df['StockCode'].nunique())\n",
    "print(\"Unique Description\" , df['Description'].nunique())\n",
    "print(\"Unique CustomerID\" , df['CustomerID'].nunique())\n",
    "print(\"Unique Country\" , df['Country'].nunique())"
   ]
  },
  {
   "cell_type": "markdown",
   "id": "6edede0b",
   "metadata": {},
   "source": [
    "### 6. Detailed Inspection of critical columns to inspect for anomalies or insights.\n",
    "#### InvoiceDate - checking the time range of the data."
   ]
  },
  {
   "cell_type": "code",
   "execution_count": 19,
   "id": "72e195d3",
   "metadata": {},
   "outputs": [
    {
     "name": "stdout",
     "output_type": "stream",
     "text": [
      "\n",
      "--- InvoiceDate Range ---\n",
      "Minimum InvoiceDate 2010-12-01 08:26:00\n",
      "Maximum InvoiceDate 2011-12-09 12:50:00\n",
      "Data spans: 373 days\n"
     ]
    }
   ],
   "source": [
    "print(\"\\n--- InvoiceDate Range ---\")\n",
    "print(\"Minimum InvoiceDate\", df['InvoiceDate'].min())\n",
    "print(\"Maximum InvoiceDate\", df['InvoiceDate'].max())\n",
    "print(f\"Data spans: {(df['InvoiceDate'].max() - df['InvoiceDate'].min()).days} days\")"
   ]
  },
  {
   "cell_type": "markdown",
   "id": "a90708be",
   "metadata": {},
   "source": [
    "### Quantity - Check for negative values (returns)"
   ]
  },
  {
   "cell_type": "code",
   "execution_count": 20,
   "id": "7acbfb67",
   "metadata": {},
   "outputs": [
    {
     "name": "stdout",
     "output_type": "stream",
     "text": [
      "\n",
      "--- Quantity Analysis ---\n",
      "Number of transactions with negative Quantity (returns/cancellations): 10624\n",
      "Percentage of negative Quantity transactions: 1.96%\n"
     ]
    }
   ],
   "source": [
    "print(\"\\n--- Quantity Analysis ---\")\n",
    "negative_quantity_count = df[df['Quantity'] < 0].shape[0]\n",
    "print(f\"Number of transactions with negative Quantity (returns/cancellations): {negative_quantity_count}\")\n",
    "print(f\"Percentage of negative Quantity transactions: {(negative_quantity_count / df.shape[0]) * 100:.2f}%\")\n",
    "\n"
   ]
  },
  {
   "cell_type": "code",
   "execution_count": 23,
   "id": "86154ec6",
   "metadata": {},
   "outputs": [
    {
     "name": "stdout",
     "output_type": "stream",
     "text": [
      "Examples of negative Quantity transactions:\n",
      "    InvoiceNo StockCode                       Description  Quantity         InvoiceDate  UnitPrice  CustomerID         Country\n",
      "141   C536379         D                          Discount        -1 2010-12-01 09:41:00      27.50    14527.00  United Kingdom\n",
      "154   C536383    35004C   SET OF 3 COLOURED  FLYING DUCKS        -1 2010-12-01 09:49:00       4.65    15311.00  United Kingdom\n",
      "235   C536391     22556    PLASTERS IN TIN CIRCUS PARADE        -12 2010-12-01 10:24:00       1.65    17548.00  United Kingdom\n",
      "236   C536391     21984  PACK OF 12 PINK PAISLEY TISSUES        -24 2010-12-01 10:24:00       0.29    17548.00  United Kingdom\n",
      "237   C536391     21983  PACK OF 12 BLUE PAISLEY TISSUES        -24 2010-12-01 10:24:00       0.29    17548.00  United Kingdom\n"
     ]
    }
   ],
   "source": [
    "# Display some rows with negative quantity to understand their characteristics\n",
    "print(\"Examples of negative Quantity transactions:\")\n",
    "print(df[df['Quantity'] < 0].head())"
   ]
  },
  {
   "cell_type": "markdown",
   "id": "517ee306",
   "metadata": {},
   "source": [
    "### UnitPrice - Investigate zero or negative values"
   ]
  },
  {
   "cell_type": "code",
   "execution_count": 24,
   "id": "5c146433",
   "metadata": {},
   "outputs": [
    {
     "name": "stdout",
     "output_type": "stream",
     "text": [
      "\n",
      "--- UnitPrice Analysis ---\n",
      "Number of transactions with non-positive UnitPrice: 2517\n",
      "Percentage of non-positive UnitPrice transactions: 0.46%\n"
     ]
    }
   ],
   "source": [
    "print(\"\\n--- UnitPrice Analysis ---\")\n",
    "non_positive_price_count = df[df['UnitPrice'] <= 0].shape[0]\n",
    "print(f\"Number of transactions with non-positive UnitPrice: {non_positive_price_count}\")\n",
    "print(f\"Percentage of non-positive UnitPrice transactions: {(non_positive_price_count / df.shape[0]) * 100:.2f}%\")\n"
   ]
  },
  {
   "cell_type": "code",
   "execution_count": 25,
   "id": "c32c60e0",
   "metadata": {},
   "outputs": [
    {
     "name": "stdout",
     "output_type": "stream",
     "text": [
      "Examples of non-positive UnitPrice transactions:\n",
      "     InvoiceNo StockCode Description  Quantity         InvoiceDate  UnitPrice  CustomerID         Country\n",
      "622     536414     22139         NaN        56 2010-12-01 11:52:00       0.00         NaN  United Kingdom\n",
      "1970    536545     21134         NaN         1 2010-12-01 14:32:00       0.00         NaN  United Kingdom\n",
      "1971    536546     22145         NaN         1 2010-12-01 14:33:00       0.00         NaN  United Kingdom\n",
      "1972    536547     37509         NaN         1 2010-12-01 14:33:00       0.00         NaN  United Kingdom\n",
      "1987    536549    85226A         NaN         1 2010-12-01 14:34:00       0.00         NaN  United Kingdom\n"
     ]
    }
   ],
   "source": [
    "# Display some rows with non-positive price\n",
    "print(\"Examples of non-positive UnitPrice transactions:\")\n",
    "print(df[df['UnitPrice'] <= 0].head())"
   ]
  },
  {
   "cell_type": "markdown",
   "id": "6c4c151f",
   "metadata": {},
   "source": [
    "### CustomerID - Check missing values in it"
   ]
  },
  {
   "cell_type": "code",
   "execution_count": 28,
   "id": "358a46f3",
   "metadata": {},
   "outputs": [
    {
     "name": "stdout",
     "output_type": "stream",
     "text": [
      "\n",
      "--- CustomerID Missing Data ---\n",
      "Number of rows with missing CustomerID: 135080\n",
      "Examples of transactions with missing CustomerID:\n",
      "     InvoiceNo StockCode                      Description  Quantity         InvoiceDate  UnitPrice  CustomerID         Country\n",
      "622     536414     22139                              NaN        56 2010-12-01 11:52:00       0.00         NaN  United Kingdom\n",
      "1443    536544     21773  DECORATIVE ROSE BATHROOM BOTTLE         1 2010-12-01 14:32:00       2.51         NaN  United Kingdom\n",
      "1444    536544     21774  DECORATIVE CATS BATHROOM BOTTLE         2 2010-12-01 14:32:00       2.51         NaN  United Kingdom\n",
      "1445    536544     21786               POLKADOT RAIN HAT          4 2010-12-01 14:32:00       0.85         NaN  United Kingdom\n",
      "1446    536544     21787            RAIN PONCHO RETROSPOT         2 2010-12-01 14:32:00       1.66         NaN  United Kingdom\n"
     ]
    }
   ],
   "source": [
    "print(\"\\n--- CustomerID Missing Data ---\")\n",
    "missing_customerid_df = df[df['CustomerID'].isnull()]\n",
    "print(f\"Number of rows with missing CustomerID: {missing_customerid_df.shape[0]}\")\n",
    "print(\"Examples of transactions with missing CustomerID:\")\n",
    "print(missing_customerid_df.head())\n"
   ]
  },
  {
   "cell_type": "code",
   "execution_count": 27,
   "id": "bdd4c0a0",
   "metadata": {},
   "outputs": [
    {
     "name": "stdout",
     "output_type": "stream",
     "text": [
      "Countries associated with missing CustomerIDs (top 5):\n",
      "Country\n",
      "United Kingdom    133600\n",
      "EIRE                 711\n",
      "Hong Kong            288\n",
      "Unspecified          202\n",
      "Switzerland          125\n",
      "Name: count, dtype: int64\n"
     ]
    }
   ],
   "source": [
    "# Observe if these missing IDs correspond to specific countries or descriptions.\n",
    "print(\"Countries associated with missing CustomerIDs (top 5):\")\n",
    "print(missing_customerid_df['Country'].value_counts().head())"
   ]
  },
  {
   "cell_type": "markdown",
   "id": "31fc05fd",
   "metadata": {},
   "source": [
    "## Key Observations and Data Quality Issues got from the above analysis:\n",
    "\n",
    "Based on the initial data exploration, here are the critical observations and data quality issues that need to be addressed before proceeding with CLTV analysis:\n",
    "\n",
    "* **Missing `CustomerID`**: A significant portion  of the rows have missing `CustomerID`. Since CLTV is calculated per customer, these records are unusable for our primary goal.\n",
    "    * *Decision:* These rows must be removed.\n",
    "* **Negative `Quantity`**: The `Quantity` column contains negative values (e.g., -1, -12, -24). These typically represent returns or cancellations. The `InvoiceNo` for these often starts with 'C'.\n",
    "    * *Decision:* For predicting positive customer value (lifetime *revenue*), these transactions should be filtered out. We are interested in actual purchases.\n",
    "* **Zero or Negative `UnitPrice`**: Some transactions show a `UnitPrice` of 0 or even negative values. These transactions contribute no monetary value and could indicate data entry errors or specific promotional items.\n",
    "    * *Decision:* Filter out these transactions as they do not contribute to revenue for CLTV calculation.\n",
    "* **`InvoiceDate` Data Type**: The `df.info()` output indicates `InvoiceDate` is an `object` type (or sometimes datetime if pandas infers it immediately). For time-based analysis (like calculating Recency, Frequency, and Customer Tenure), it must be converted to a proper `datetime` format.\n",
    "    * *Decision:* Convert `InvoiceDate` to datetime objects.\n",
    "* **`TotalPrice` Calculation**: The dataset does not have a `TotalPrice` column per line item. This needs to be calculated by multiplying `Quantity` by `UnitPrice`.\n",
    "    * *Decision:* Create a new `TotalPrice` column.\n",
    "\n",
    "\n"
   ]
  },
  {
   "cell_type": "markdown",
   "id": "91c353f8",
   "metadata": {},
   "source": [
    "## Data cleaning and Preprocessing\n",
    "#### Based on the observtaions seen above, we will now  perform the cleaning steps. \n",
    "\n",
    "#### 1. Handling missing CustomerIDs"
   ]
  },
  {
   "cell_type": "code",
   "execution_count": 29,
   "id": "9c96bcae",
   "metadata": {},
   "outputs": [
    {
     "name": "stdout",
     "output_type": "stream",
     "text": [
      "DataFrame shape BEFORE dropping rows with missing CustomerID (541909, 8)\n"
     ]
    }
   ],
   "source": [
    "print(\"DataFrame shape BEFORE dropping rows with missing CustomerID\" , df.shape)\n"
   ]
  },
  {
   "cell_type": "code",
   "execution_count": 31,
   "id": "77d85568",
   "metadata": {},
   "outputs": [
    {
     "name": "stdout",
     "output_type": "stream",
     "text": [
      "DataFrame shape AFTER dropping rows with missing CustomerID (406829, 8)\n",
      "Number of unique customers remaining:  4372\n",
      "Missing CustomerID after cleaning  0\n"
     ]
    }
   ],
   "source": [
    "df.dropna(subset=['CustomerID'],inplace=True)\n",
    "df['CustomerID'] = df['CustomerID'].astype(int)\n",
    "print(\"DataFrame shape AFTER dropping rows with missing CustomerID\",df.shape)\n",
    "print(\"Number of unique customers remaining: \",df['CustomerID'].nunique())\n",
    "print(\"Missing CustomerID after cleaning \",df['CustomerID'].isnull().sum())"
   ]
  },
  {
   "cell_type": "markdown",
   "id": "8335a8aa",
   "metadata": {},
   "source": [
    "### 2. Handling Non-Positive Quantities ('Quantity' columns i.e returns/cancellations)\n",
    "\n",
    "#### we shall remove all negative and zero values as they dont contribute to revenue\n"
   ]
  },
  {
   "cell_type": "code",
   "execution_count": 35,
   "id": "1cb3d337",
   "metadata": {},
   "outputs": [
    {
     "name": "stdout",
     "output_type": "stream",
     "text": [
      "DataFrame shape AFTER removing non-positive Quantity:  (397924, 8)\n"
     ]
    }
   ],
   "source": [
    "df = df[df['Quantity'] > 0]\n",
    "print(f\"DataFrame shape AFTER removing non-positive Quantity: \",df.shape)"
   ]
  },
  {
   "cell_type": "markdown",
   "id": "0e583854",
   "metadata": {},
   "source": [
    "### 3. Handling Non-Positive UnitPrice\n",
    "#### we shall remove negative or zero values as they dont contribute to revenue"
   ]
  },
  {
   "cell_type": "code",
   "execution_count": 36,
   "id": "940767c7",
   "metadata": {},
   "outputs": [
    {
     "name": "stdout",
     "output_type": "stream",
     "text": [
      "\n",
      "DataFrame shape BEFORE removing non-positive UnitPrice: (397924, 8)\n",
      "DataFrame shape AFTER removing non-positive UnitPrice:  (397884, 8)\n"
     ]
    }
   ],
   "source": [
    "print(\"\\nDataFrame shape BEFORE removing non-positive UnitPrice:\",df.shape)\n",
    "df = df[df['UnitPrice'] > 0]\n",
    "print(\"DataFrame shape AFTER removing non-positive UnitPrice: \",df.shape)"
   ]
  },
  {
   "cell_type": "markdown",
   "id": "aed3c68b",
   "metadata": {},
   "source": [
    "### 4. Converting InvoiceDate into datetime format\n",
    "#### as the InvoiceDate is a datetime object, we need to make sure its in that format for accurate time-based calculations like recency, frequency, and customer tenure."
   ]
  },
  {
   "cell_type": "code",
   "execution_count": 39,
   "id": "b0806188",
   "metadata": {},
   "outputs": [
    {
     "name": "stdout",
     "output_type": "stream",
     "text": [
      "InvoiceDate column BEFORE conversion into datetime format:  datetime64[ns]\n",
      "InvoiceDate column AFTER conversion into datetime format:  datetime64[ns]\n",
      "Cleaned data date range: 2010-12-01 08:26:00 to 2011-12-09 12:50:00\n"
     ]
    }
   ],
   "source": [
    "print(\"InvoiceDate column BEFORE conversion into datetime format: \", df['InvoiceDate'].dtype)\n",
    "df['InvoiceDate']=pd.to_datetime(df['InvoiceDate'])\n",
    "print(\"InvoiceDate column AFTER conversion into datetime format: \", df['InvoiceDate'].dtype)\n",
    "print(f\"Cleaned data date range: {df['InvoiceDate'].min()} to {df['InvoiceDate'].max()}\")\n"
   ]
  },
  {
   "cell_type": "markdown",
   "id": "11917f3a",
   "metadata": {},
   "source": [
    "### 5. Calculating TotalPrice for each transaction item"
   ]
  },
  {
   "cell_type": "code",
   "execution_count": 41,
   "id": "3ba0479a",
   "metadata": {},
   "outputs": [
    {
     "name": "stdout",
     "output_type": "stream",
     "text": [
      "\n",
      "'TotalPrice' column added successfully. Displaying first 5 rows with TotalPrice:\n",
      "  InvoiceNo StockCode                          Description  Quantity         InvoiceDate  UnitPrice  CustomerID         Country  TotalPrice\n",
      "0    536365    85123A   WHITE HANGING HEART T-LIGHT HOLDER         6 2010-12-01 08:26:00       2.55       17850  United Kingdom       15.30\n",
      "1    536365     71053                  WHITE METAL LANTERN         6 2010-12-01 08:26:00       3.39       17850  United Kingdom       20.34\n",
      "2    536365    84406B       CREAM CUPID HEARTS COAT HANGER         8 2010-12-01 08:26:00       2.75       17850  United Kingdom       22.00\n",
      "3    536365    84029G  KNITTED UNION FLAG HOT WATER BOTTLE         6 2010-12-01 08:26:00       3.39       17850  United Kingdom       20.34\n",
      "4    536365    84029E       RED WOOLLY HOTTIE WHITE HEART.         6 2010-12-01 08:26:00       3.39       17850  United Kingdom       20.34\n"
     ]
    }
   ],
   "source": [
    "df['TotalPrice'] = df['Quantity'] * df['UnitPrice']\n",
    "print(\"\\n'TotalPrice' column added successfully. Displaying first 5 rows with TotalPrice:\")\n",
    "print(df.head())\n"
   ]
  },
  {
   "cell_type": "markdown",
   "id": "950407c5",
   "metadata": {},
   "source": [
    "### 6. Check for duplicate rows\n"
   ]
  },
  {
   "cell_type": "code",
   "execution_count": 42,
   "id": "8705286f",
   "metadata": {},
   "outputs": [
    {
     "name": "stdout",
     "output_type": "stream",
     "text": [
      "Number of exact duplicate rows BEFORE dropping  5192\n",
      "Number of exact duplicate rows AFTER dropping  0\n"
     ]
    }
   ],
   "source": [
    "print(\"Number of exact duplicate rows BEFORE dropping \", df.duplicated().sum())\n",
    "df.drop_duplicates(inplace=True)\n",
    "print(\"Number of exact duplicate rows AFTER dropping \", df.duplicated().sum())"
   ]
  },
  {
   "cell_type": "code",
   "execution_count": 43,
   "id": "ad206c76",
   "metadata": {},
   "outputs": [
    {
     "name": "stdout",
     "output_type": "stream",
     "text": [
      "DataFrame shape AFTER dropping duplicates  (392692, 9)\n"
     ]
    }
   ],
   "source": [
    "print(\"DataFrame shape AFTER dropping duplicates \", df.shape)"
   ]
  },
  {
   "cell_type": "markdown",
   "id": "1743dc95",
   "metadata": {},
   "source": [
    "### Final Data review and saving the cleaned data"
   ]
  },
  {
   "cell_type": "code",
   "execution_count": 44,
   "id": "9427a154",
   "metadata": {},
   "outputs": [
    {
     "name": "stdout",
     "output_type": "stream",
     "text": [
      "\n",
      "--- Final data info after cleaning---\n",
      "<class 'pandas.core.frame.DataFrame'>\n",
      "Index: 392692 entries, 0 to 541908\n",
      "Data columns (total 9 columns):\n",
      " #   Column       Non-Null Count   Dtype         \n",
      "---  ------       --------------   -----         \n",
      " 0   InvoiceNo    392692 non-null  object        \n",
      " 1   StockCode    392692 non-null  object        \n",
      " 2   Description  392692 non-null  object        \n",
      " 3   Quantity     392692 non-null  int64         \n",
      " 4   InvoiceDate  392692 non-null  datetime64[ns]\n",
      " 5   UnitPrice    392692 non-null  float64       \n",
      " 6   CustomerID   392692 non-null  int32         \n",
      " 7   Country      392692 non-null  object        \n",
      " 8   TotalPrice   392692 non-null  float64       \n",
      "dtypes: datetime64[ns](1), float64(2), int32(1), int64(1), object(4)\n",
      "memory usage: 28.5+ MB\n"
     ]
    }
   ],
   "source": [
    "print(\"\\n--- Final data info after cleaning---\")\n",
    "df.info()"
   ]
  },
  {
   "cell_type": "code",
   "execution_count": 45,
   "id": "095a450f",
   "metadata": {},
   "outputs": [
    {
     "name": "stdout",
     "output_type": "stream",
     "text": [
      "\n",
      "---Final missing values check---\n"
     ]
    },
    {
     "data": {
      "text/plain": [
       "InvoiceNo      0\n",
       "StockCode      0\n",
       "Description    0\n",
       "Quantity       0\n",
       "InvoiceDate    0\n",
       "UnitPrice      0\n",
       "CustomerID     0\n",
       "Country        0\n",
       "TotalPrice     0\n",
       "dtype: int64"
      ]
     },
     "execution_count": 45,
     "metadata": {},
     "output_type": "execute_result"
    }
   ],
   "source": [
    "print(\"\\n---Final missing values check---\")\n",
    "df.isnull().sum()"
   ]
  },
  {
   "cell_type": "markdown",
   "id": "7a698e3c",
   "metadata": {},
   "source": [
    "### saving the cleaned and processed DataFrame to the data/processed/ folder"
   ]
  },
  {
   "cell_type": "code",
   "execution_count": 46,
   "id": "6edb0e68",
   "metadata": {},
   "outputs": [
    {
     "name": "stdout",
     "output_type": "stream",
     "text": [
      "\n",
      "Cleaned data saved successfully to: ../data/processed/online_retail_cleaned.csv\n"
     ]
    }
   ],
   "source": [
    "output_path = '../data/processed/online_retail_cleaned.csv'\n",
    "df.to_csv(output_path, index=False)\n",
    "print(f\"\\nCleaned data saved successfully to: {output_path}\")"
   ]
  },
  {
   "cell_type": "code",
   "execution_count": 47,
   "id": "db1f1b86",
   "metadata": {},
   "outputs": [
    {
     "name": "stdout",
     "output_type": "stream",
     "text": [
      "\n",
      "--- Final Descriptive Statistics of Cleaned Data ---\n"
     ]
    },
    {
     "data": {
      "text/html": [
       "<div>\n",
       "<style scoped>\n",
       "    .dataframe tbody tr th:only-of-type {\n",
       "        vertical-align: middle;\n",
       "    }\n",
       "\n",
       "    .dataframe tbody tr th {\n",
       "        vertical-align: top;\n",
       "    }\n",
       "\n",
       "    .dataframe thead th {\n",
       "        text-align: right;\n",
       "    }\n",
       "</style>\n",
       "<table border=\"1\" class=\"dataframe\">\n",
       "  <thead>\n",
       "    <tr style=\"text-align: right;\">\n",
       "      <th></th>\n",
       "      <th>Quantity</th>\n",
       "      <th>InvoiceDate</th>\n",
       "      <th>UnitPrice</th>\n",
       "      <th>CustomerID</th>\n",
       "      <th>TotalPrice</th>\n",
       "    </tr>\n",
       "  </thead>\n",
       "  <tbody>\n",
       "    <tr>\n",
       "      <th>count</th>\n",
       "      <td>392692.00</td>\n",
       "      <td>392692</td>\n",
       "      <td>392692.00</td>\n",
       "      <td>392692.00</td>\n",
       "      <td>392692.00</td>\n",
       "    </tr>\n",
       "    <tr>\n",
       "      <th>mean</th>\n",
       "      <td>13.12</td>\n",
       "      <td>2011-07-10 19:13:07.771892480</td>\n",
       "      <td>3.13</td>\n",
       "      <td>15287.84</td>\n",
       "      <td>22.63</td>\n",
       "    </tr>\n",
       "    <tr>\n",
       "      <th>min</th>\n",
       "      <td>1.00</td>\n",
       "      <td>2010-12-01 08:26:00</td>\n",
       "      <td>0.00</td>\n",
       "      <td>12346.00</td>\n",
       "      <td>0.00</td>\n",
       "    </tr>\n",
       "    <tr>\n",
       "      <th>25%</th>\n",
       "      <td>2.00</td>\n",
       "      <td>2011-04-07 11:12:00</td>\n",
       "      <td>1.25</td>\n",
       "      <td>13955.00</td>\n",
       "      <td>4.95</td>\n",
       "    </tr>\n",
       "    <tr>\n",
       "      <th>50%</th>\n",
       "      <td>6.00</td>\n",
       "      <td>2011-07-31 12:02:00</td>\n",
       "      <td>1.95</td>\n",
       "      <td>15150.00</td>\n",
       "      <td>12.45</td>\n",
       "    </tr>\n",
       "    <tr>\n",
       "      <th>75%</th>\n",
       "      <td>12.00</td>\n",
       "      <td>2011-10-20 12:53:00</td>\n",
       "      <td>3.75</td>\n",
       "      <td>16791.00</td>\n",
       "      <td>19.80</td>\n",
       "    </tr>\n",
       "    <tr>\n",
       "      <th>max</th>\n",
       "      <td>80995.00</td>\n",
       "      <td>2011-12-09 12:50:00</td>\n",
       "      <td>8142.75</td>\n",
       "      <td>18287.00</td>\n",
       "      <td>168469.60</td>\n",
       "    </tr>\n",
       "    <tr>\n",
       "      <th>std</th>\n",
       "      <td>180.49</td>\n",
       "      <td>NaN</td>\n",
       "      <td>22.24</td>\n",
       "      <td>1713.54</td>\n",
       "      <td>311.10</td>\n",
       "    </tr>\n",
       "  </tbody>\n",
       "</table>\n",
       "</div>"
      ],
      "text/plain": [
       "       Quantity                    InvoiceDate  UnitPrice  CustomerID  TotalPrice\n",
       "count 392692.00                         392692  392692.00   392692.00   392692.00\n",
       "mean      13.12  2011-07-10 19:13:07.771892480       3.13    15287.84       22.63\n",
       "min        1.00            2010-12-01 08:26:00       0.00    12346.00        0.00\n",
       "25%        2.00            2011-04-07 11:12:00       1.25    13955.00        4.95\n",
       "50%        6.00            2011-07-31 12:02:00       1.95    15150.00       12.45\n",
       "75%       12.00            2011-10-20 12:53:00       3.75    16791.00       19.80\n",
       "max    80995.00            2011-12-09 12:50:00    8142.75    18287.00   168469.60\n",
       "std      180.49                            NaN      22.24     1713.54      311.10"
      ]
     },
     "execution_count": 47,
     "metadata": {},
     "output_type": "execute_result"
    }
   ],
   "source": [
    "print(\"\\n--- Final Descriptive Statistics of Cleaned Data ---\")\n",
    "df.describe()"
   ]
  },
  {
   "cell_type": "markdown",
   "id": "563ef3d8",
   "metadata": {},
   "source": [
    "---\n",
    "## Summary of Cleaning Steps and ready for Feature Engineering\n",
    "\n",
    "This section successfully completed the data cleaning and preprocessing phase. We systematically addressed the data quality issues identified during EDA:\n",
    "\n",
    "* **Removed anonymous transactions**: All rows with missing `CustomerID` were dropped, ensuring every transaction is linked to a specific customer for CLTV tracking.\n",
    "* **Filtered invalid transactions**: Transactions with non-positive `Quantity` (returns, cancellations) and non-positive `UnitPrice` (free items, errors) were removed, ensuring our analysis focuses solely on genuine purchases that contribute to revenue.\n",
    "* **Corrected data types**: `InvoiceDate` was converted to the proper `datetime` format, enabling accurate time-series calculations.\n",
    "* **Derived `TotalPrice`**: A new, crucial column `TotalPrice` was calculated, representing the total monetary value of each line item.\n",
    "* **Handled duplicates**: Any remaining exact duplicate rows were removed to maintain data integrity.\n",
    "\n",
    "The resulting cleaned dataset, `online_retail_cleaned.csv`, is now stored in the `data/processed/` directory. "
   ]
  },
  {
   "cell_type": "code",
   "execution_count": null,
   "id": "97642c6c",
   "metadata": {},
   "outputs": [],
   "source": []
  }
 ],
 "metadata": {
  "kernelspec": {
   "display_name": "cltv_env",
   "language": "python",
   "name": "python3"
  },
  "language_info": {
   "codemirror_mode": {
    "name": "ipython",
    "version": 3
   },
   "file_extension": ".py",
   "mimetype": "text/x-python",
   "name": "python",
   "nbconvert_exporter": "python",
   "pygments_lexer": "ipython3",
   "version": "3.9.23"
  }
 },
 "nbformat": 4,
 "nbformat_minor": 5
}
