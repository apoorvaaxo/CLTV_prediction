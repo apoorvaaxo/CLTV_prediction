{
 "cells": [
  {
   "cell_type": "markdown",
   "id": "4bbbcda6",
   "metadata": {},
   "source": [
    "##### Phase Objective: Here, we will use  probabilistic modeling approach to predict CLTV. We'll use the `lifetimes` library, which is a powerful tool for modeling customer behavior in e-commerce.This approach is highly interpretable and provides separate insights into customer purchasing frequency and monetary value."
   ]
  },
  {
   "cell_type": "code",
   "execution_count": 1,
   "id": "3fd116cc",
   "metadata": {},
   "outputs": [
    {
     "name": "stderr",
     "output_type": "stream",
     "text": [
      "C:\\Users\\DELL\\AppData\\Local\\Temp\\ipykernel_2700\\3627497046.py:1: DeprecationWarning: \n",
      "Pyarrow will become a required dependency of pandas in the next major release of pandas (pandas 3.0),\n",
      "(to allow more performant data types, such as the Arrow string type, and better interoperability with other libraries)\n",
      "but was not found to be installed on your system.\n",
      "If this would cause problems for you,\n",
      "please provide us feedback at https://github.com/pandas-dev/pandas/issues/54466\n",
      "        \n",
      "  import pandas as pd\n"
     ]
    }
   ],
   "source": [
    "import pandas as pd\n",
    "import numpy as np\n",
    "from lifetimes import BetaGeoFitter\n",
    "from lifetimes import GammaGammaFitter\n",
    "from lifetimes.utils import calibration_and_holdout_data"
   ]
  },
  {
   "cell_type": "code",
   "execution_count": 2,
   "id": "96950ab6",
   "metadata": {},
   "outputs": [],
   "source": [
    "# Set display options for better viewing\n",
    "pd.set_option('display.max_columns', None)\n",
    "pd.set_option('display.width', 1000)\n",
    "pd.set_option('display.float_format', lambda x: '%.2f' % x)"
   ]
  },
  {
   "cell_type": "code",
   "execution_count": 3,
   "id": "510e8394",
   "metadata": {},
   "outputs": [
    {
     "name": "stdout",
     "output_type": "stream",
     "text": [
      "Loading feature-engineered data...\n",
      "Feature-engineered data loaded successfully.\n"
     ]
    }
   ],
   "source": [
    "print(\"Loading feature-engineered data...\")\n",
    "try:\n",
    "    df_features = pd.read_csv('../data/processed/customer_features_rfm.csv')\n",
    "    print(\"Feature-engineered data loaded successfully.\")\n",
    "except FileNotFoundError:\n",
    "    print(\"Error: 'customer_features_rfm.csv' not found. Please ensure 02_Feature_Engineering.ipynb was run and saved.\")\n",
    "    exit()"
   ]
  },
  {
   "cell_type": "code",
   "execution_count": 4,
   "id": "6f97ae45",
   "metadata": {},
   "outputs": [
    {
     "name": "stdout",
     "output_type": "stream",
     "text": [
      "Shape of the  customer_features_rfm.csv dataframe is (4338, 10)\n"
     ]
    }
   ],
   "source": [
    "print(\"Shape of the  customer_features_rfm.csv dataframe is\", df_features.shape)"
   ]
  },
  {
   "cell_type": "code",
   "execution_count": 6,
   "id": "947174fd",
   "metadata": {},
   "outputs": [
    {
     "name": "stdout",
     "output_type": "stream",
     "text": [
      "Sample features are: \n"
     ]
    },
    {
     "data": {
      "text/html": [
       "<div>\n",
       "<style scoped>\n",
       "    .dataframe tbody tr th:only-of-type {\n",
       "        vertical-align: middle;\n",
       "    }\n",
       "\n",
       "    .dataframe tbody tr th {\n",
       "        vertical-align: top;\n",
       "    }\n",
       "\n",
       "    .dataframe thead th {\n",
       "        text-align: right;\n",
       "    }\n",
       "</style>\n",
       "<table border=\"1\" class=\"dataframe\">\n",
       "  <thead>\n",
       "    <tr style=\"text-align: right;\">\n",
       "      <th></th>\n",
       "      <th>CustomerID</th>\n",
       "      <th>Recency</th>\n",
       "      <th>Frequency</th>\n",
       "      <th>Monetary</th>\n",
       "      <th>Tenure</th>\n",
       "      <th>Frequency_model</th>\n",
       "      <th>Recency_Model</th>\n",
       "      <th>AOV</th>\n",
       "      <th>AvgPurchaseGap</th>\n",
       "      <th>ProductDiversity</th>\n",
       "    </tr>\n",
       "  </thead>\n",
       "  <tbody>\n",
       "    <tr>\n",
       "      <th>0</th>\n",
       "      <td>12346</td>\n",
       "      <td>326</td>\n",
       "      <td>1</td>\n",
       "      <td>77183.60</td>\n",
       "      <td>326</td>\n",
       "      <td>0</td>\n",
       "      <td>0</td>\n",
       "      <td>77183.60</td>\n",
       "      <td>0.00</td>\n",
       "      <td>1</td>\n",
       "    </tr>\n",
       "    <tr>\n",
       "      <th>1</th>\n",
       "      <td>12347</td>\n",
       "      <td>2</td>\n",
       "      <td>7</td>\n",
       "      <td>4310.00</td>\n",
       "      <td>367</td>\n",
       "      <td>6</td>\n",
       "      <td>365</td>\n",
       "      <td>615.71</td>\n",
       "      <td>2.00</td>\n",
       "      <td>103</td>\n",
       "    </tr>\n",
       "    <tr>\n",
       "      <th>2</th>\n",
       "      <td>12348</td>\n",
       "      <td>75</td>\n",
       "      <td>4</td>\n",
       "      <td>1797.24</td>\n",
       "      <td>358</td>\n",
       "      <td>3</td>\n",
       "      <td>282</td>\n",
       "      <td>449.31</td>\n",
       "      <td>9.40</td>\n",
       "      <td>22</td>\n",
       "    </tr>\n",
       "    <tr>\n",
       "      <th>3</th>\n",
       "      <td>12349</td>\n",
       "      <td>19</td>\n",
       "      <td>1</td>\n",
       "      <td>1757.55</td>\n",
       "      <td>19</td>\n",
       "      <td>0</td>\n",
       "      <td>0</td>\n",
       "      <td>1757.55</td>\n",
       "      <td>0.00</td>\n",
       "      <td>73</td>\n",
       "    </tr>\n",
       "    <tr>\n",
       "      <th>4</th>\n",
       "      <td>12350</td>\n",
       "      <td>310</td>\n",
       "      <td>1</td>\n",
       "      <td>334.40</td>\n",
       "      <td>310</td>\n",
       "      <td>0</td>\n",
       "      <td>0</td>\n",
       "      <td>334.40</td>\n",
       "      <td>0.00</td>\n",
       "      <td>17</td>\n",
       "    </tr>\n",
       "  </tbody>\n",
       "</table>\n",
       "</div>"
      ],
      "text/plain": [
       "   CustomerID  Recency  Frequency  Monetary  Tenure  Frequency_model  Recency_Model      AOV  AvgPurchaseGap  ProductDiversity\n",
       "0       12346      326          1  77183.60     326                0              0 77183.60            0.00                 1\n",
       "1       12347        2          7   4310.00     367                6            365   615.71            2.00               103\n",
       "2       12348       75          4   1797.24     358                3            282   449.31            9.40                22\n",
       "3       12349       19          1   1757.55      19                0              0  1757.55            0.00                73\n",
       "4       12350      310          1    334.40     310                0              0   334.40            0.00                17"
      ]
     },
     "execution_count": 6,
     "metadata": {},
     "output_type": "execute_result"
    }
   ],
   "source": [
    "print(\"Sample features are: \")\n",
    "df_features.head()"
   ]
  },
  {
   "cell_type": "markdown",
   "id": "d1d23b0c",
   "metadata": {},
   "source": [
    "#### We are using the 'lifetimes' library for the probabilistic models. These models require data to be of a specific format. \n",
    "#### We have the following:\n",
    "##### 1.`frequency`: The number of *repeat* purchases (transactions - 1)\n",
    "##### 2.`recency`: The age of the customer *at the time of their last purchase* (T_x)\n",
    "##### 3.`T`: The age of the customer in total (Tenure)\n",
    "##### 4.`monetary`: The *average* monetary value per transaction\n",
    "##### Now lets make another dataframe that just have these mentioned above. "
   ]
  },
  {
   "cell_type": "code",
   "execution_count": 8,
   "id": "46eead29",
   "metadata": {},
   "outputs": [],
   "source": [
    "lifetimes_df=df_features[['CustomerID', 'Frequency_model', 'Recency_Model', 'Tenure', 'Monetary']].copy()"
   ]
  },
  {
   "cell_type": "markdown",
   "id": "7a016c27",
   "metadata": {},
   "source": [
    "##### The Gamma-Gamma model requires monetary value to be greater than zero.\n",
    "##### We'll filter out customers with a monetary value of 0 (single buyers).\n",
    "##### We will use the BG/NBD model on all customers, but the Gamma-Gamma model only on repeat buyers.\n"
   ]
  },
  {
   "cell_type": "code",
   "execution_count": 9,
   "id": "294a230e",
   "metadata": {},
   "outputs": [],
   "source": [
    "\n",
    "lifetimes_df = lifetimes_df[lifetimes_df['Monetary'] > 0]"
   ]
  },
  {
   "cell_type": "code",
   "execution_count": 10,
   "id": "b578e51e",
   "metadata": {},
   "outputs": [],
   "source": [
    "lifetimes_df.rename(columns={\n",
    "    'Frequency_model': 'frequency',\n",
    "    'Recency_Model': 'recency',\n",
    "    'Tenure': 'T',\n",
    "    'Monetary': 'monetary'\n",
    "}, inplace=True)"
   ]
  },
  {
   "cell_type": "code",
   "execution_count": 11,
   "id": "1f467aed",
   "metadata": {},
   "outputs": [
    {
     "name": "stdout",
     "output_type": "stream",
     "text": [
      "\n",
      "Data prepared for lifetimes library:\n",
      "   CustomerID  frequency  recency    T  monetary\n",
      "0       12346          0        0  326  77183.60\n",
      "1       12347          6      365  367   4310.00\n",
      "2       12348          3      282  358   1797.24\n",
      "3       12349          0        0   19   1757.55\n",
      "4       12350          0        0  310    334.40\n"
     ]
    }
   ],
   "source": [
    "print(\"\\nData prepared for lifetimes library:\")\n",
    "print(lifetimes_df.head())"
   ]
  },
  {
   "cell_type": "markdown",
   "id": "c50158d3",
   "metadata": {},
   "source": [
    "#### Training the BG/NBD Model(Frequency Prediction)\n",
    "#### The BG/NBD (Beta-Geometric / Negative Binomial Distribution) model predicts\n",
    "#### how many future transactions a customer will make. It models two processes:\n",
    "#### 1. A customer's purchasing process (frequency)\n",
    "#### 2. A customer's \"dropout\" process (churn)\n"
   ]
  },
  {
   "cell_type": "code",
   "execution_count": 12,
   "id": "46a3acb9",
   "metadata": {},
   "outputs": [
    {
     "name": "stdout",
     "output_type": "stream",
     "text": [
      "\n",
      "--- Training the BG/NBD model ---\n"
     ]
    },
    {
     "data": {
      "text/plain": [
       "<lifetimes.BetaGeoFitter: fitted with 4338 subjects, a: 0.03, alpha: 51.55, b: 2.50, r: 0.73>"
      ]
     },
     "execution_count": 12,
     "metadata": {},
     "output_type": "execute_result"
    }
   ],
   "source": [
    "print(\"\\n--- Training the BG/NBD model ---\")\n",
    "bgf = BetaGeoFitter(penalizer_coef=0.0) \n",
    "bgf.fit(lifetimes_df['frequency'], lifetimes_df['recency'], lifetimes_df['T'])\n",
    "\n"
   ]
  },
  {
   "cell_type": "code",
   "execution_count": 13,
   "id": "a72eb713",
   "metadata": {},
   "outputs": [
    {
     "name": "stdout",
     "output_type": "stream",
     "text": [
      "BG/NBD model training complete. Model summary:\n",
      "       coef  se(coef)  lower 95% bound  upper 95% bound\n",
      "r      0.73      0.02             0.68             0.77\n",
      "alpha 51.55      1.98            47.67            55.42\n",
      "a      0.03      0.01             0.00             0.06\n",
      "b      2.50      2.00            -1.42             6.41\n"
     ]
    }
   ],
   "source": [
    "print(\"BG/NBD model training complete. Model summary:\")\n",
    "print(bgf.summary)\n"
   ]
  },
  {
   "cell_type": "markdown",
   "id": "a9ced01c",
   "metadata": {},
   "source": [
    "#### Meaning of rows->\n",
    "\n",
    "\n",
    "| Parameter | Meaning                                                                                                                             |\n",
    "| --------- | --------------------------------------------------------------------------------------------------------------------------------------------------- |\n",
    "| **r**     | This helps the model figure out how often customers come back. Higher **r** means more regular buyers. Think of it like a “customer loyalty score.” |\n",
    "| **alpha** | This tells the model how spread out the customer purchase rates are. Big number = customers have **different speeds of buying**.                    |\n",
    "| **a**     | This is about how likely a customer is to stop buying. A small **a** means most customers will **probably come back**.                              |\n",
    "| **b**     | This shows how much variation there is in the chances of stopping. A bigger **b** means customers are all different some stop early, some never.  |\n"
   ]
  },
  {
   "cell_type": "markdown",
   "id": "dbc3a21e",
   "metadata": {},
   "source": [
    "#### Meaning of columns->\n",
    "| Column              | What it means                                                                                                                                          |\n",
    "| ------------------- | -------------------------------------------------------------------------------------------------------------------------------------------------------------------------------- |\n",
    "| **coef**            | The actual number or value the model learnt. Think of it as the model's best guess for that parameter.                                                                          |\n",
    "| **se(coef)**        | It's called **Standard Error** – the smaller this number, the more confident the model is. |\n",
    "| **lower 95% bound** | Imagine this is the **lowest** value we expect the real answer could be, 95% of the time.                                                                                        |\n",
    "| **upper 95% bound** | This is the **highest** value we expect the real answer could be, 95% of the time.                                                                                               |\n"
   ]
  },
  {
   "cell_type": "markdown",
   "id": "46552abe",
   "metadata": {},
   "source": [
    "##### Training the Gamma-Gamma Model (Monetary Prediction)\n",
    "##### The Gamma-Gamma model predicts the average monetary value of a customer's transactions.\n",
    "##### It assumes that monetary value and transaction frequency are independent.\n",
    "##### This model is trained only on *repeat customers* (those with frequency > 0)."
   ]
  },
  {
   "cell_type": "code",
   "execution_count": 14,
   "id": "160a9185",
   "metadata": {},
   "outputs": [
    {
     "name": "stdout",
     "output_type": "stream",
     "text": [
      "\n",
      "--- Training the Gamma-Gamma model ---\n"
     ]
    }
   ],
   "source": [
    "print(\"\\n--- Training the Gamma-Gamma model ---\")\n",
    "ggf = GammaGammaFitter(penalizer_coef=0.0)\n",
    "# Filter for repeat buyers (frequency > 0)\n",
    "repeat_buyers_df = lifetimes_df[lifetimes_df['frequency'] > 0]"
   ]
  },
  {
   "cell_type": "code",
   "execution_count": 17,
   "id": "ac11c132",
   "metadata": {},
   "outputs": [
    {
     "name": "stdout",
     "output_type": "stream",
     "text": [
      "Gamma-Gamma model training complete. Model summary:\n",
      "     coef  se(coef)  lower 95% bound  upper 95% bound\n",
      "p    1.72      0.12             1.49             1.94\n",
      "q    1.75      0.06             1.63             1.87\n",
      "v 1234.57    137.37           965.33          1503.81\n",
      "\n",
      "Note: The Gamma-Gamma model is trained only on customers with >1 purchase.\n"
     ]
    }
   ],
   "source": [
    "ggf.fit(repeat_buyers_df['frequency'], repeat_buyers_df['monetary'])\n",
    "print(\"Gamma-Gamma model training complete. Model summary:\")\n",
    "print(ggf.summary)\n",
    "print(\"\\nNote: The Gamma-Gamma model is trained only on customers with >1 purchase.\")\n"
   ]
  },
  {
   "cell_type": "markdown",
   "id": "3f15ce24",
   "metadata": {},
   "source": [
    "| Parameter | Value   | What It Means                                                         |\n",
    "| --------- | ------- | ----------------------------------------------------------------------------------- |\n",
    "| **p**     | 1.72    | Helps model how **consistent** customers are with how much they spend.              |\n",
    "| **q**     | 1.75    | Helps model the **variation** between customers' spending behavior.                 |\n",
    "| **v**     | 1234.57 | This is the **average spend value** (in your currency, say ₹) across all customers. |\n"
   ]
  },
  {
   "cell_type": "code",
   "execution_count": 24,
   "id": "4b443e66",
   "metadata": {},
   "outputs": [
    {
     "name": "stdout",
     "output_type": "stream",
     "text": [
      "Models saved successfully to the 'models/' folder as JSON files.\n"
     ]
    }
   ],
   "source": [
    "import os\n",
    "\n",
    "# Make sure the 'models' folder exists\n",
    "os.makedirs('../models', exist_ok=True)\n",
    "\n",
    "# Use the lifetimes library's dedicated save method\n",
    "bgf.save_model('../models/bgf.json')\n",
    "ggf.save_model('../models/ggf.json')\n",
    "\n",
    "print(\"Models saved successfully to the 'models/' folder as JSON files.\")"
   ]
  },
  {
   "cell_type": "markdown",
   "id": "d97a3aa2",
   "metadata": {},
   "source": [
    "#### Predicting CLTV\n",
    "####  Now we combine both models to predict CLTV over a future period.\n",
    "#### CLTV = (Predicted Future Purchases) * (Predicted Average Monetary Value)\n"
   ]
  },
  {
   "cell_type": "code",
   "execution_count": 19,
   "id": "5471d23d",
   "metadata": {},
   "outputs": [
    {
     "name": "stdout",
     "output_type": "stream",
     "text": [
      "\n",
      "--- Predicting CLTV for the next 365 days ---\n"
     ]
    }
   ],
   "source": [
    "# Let's predict CLTV for the next 12 months (365 days).\n",
    "prediction_period = 365 # In days\n",
    "discount_rate = 0.01 # A simple discount rate for future profits\n",
    "print(f\"\\n--- Predicting CLTV for the next {prediction_period} days ---\")"
   ]
  },
  {
   "cell_type": "code",
   "execution_count": 20,
   "id": "96d00fce",
   "metadata": {},
   "outputs": [],
   "source": [
    "# Combine the models to get the final CLTV estimate.\n",
    "# The `monetary` value here is the TOTAL monetary value, not the average.\n",
    "lifetimes_df['predicted_cltv'] = ggf.customer_lifetime_value(\n",
    "    bgf, # Our Beta-Geo model\n",
    "    lifetimes_df['frequency'],\n",
    "    lifetimes_df['recency'],\n",
    "    lifetimes_df['T'],\n",
    "    lifetimes_df['monetary'], # The TOTAL monetary value for each customer\n",
    "    time=prediction_period,   # Duration in days for prediction\n",
    "    discount_rate=discount_rate\n",
    ")"
   ]
  },
  {
   "cell_type": "code",
   "execution_count": 21,
   "id": "008c3a61",
   "metadata": {},
   "outputs": [
    {
     "name": "stdout",
     "output_type": "stream",
     "text": [
      "Top 10 customers by predicted CLTV:\n",
      "      CustomerID  frequency  recency    T  monetary  predicted_cltv\n",
      "1879       14911        200      372  373 143711.17    187546448.52\n",
      "1689       14646         72      353  355 280206.02    137653390.94\n",
      "4201       18102         54      366  367 259657.30     93120007.40\n",
      "3728       17450         45      359  368 194390.79     57957620.92\n",
      "326        12748        209      372  374  33053.19     44969098.89\n",
      "1333       14156         53      361  372 117210.08     40717912.71\n",
      "2176       15311         90      373  374  60632.75     35591954.94\n",
      "562        13089         92      366  370  58762.08     35570354.25\n",
      "4010       17841        123      371  373  40519.84     32551848.45\n",
      "2702       16029         60      335  374  80850.84     26902393.20\n"
     ]
    }
   ],
   "source": [
    "# Display the top 10 customers with the highest predicted CLTV\n",
    "print(\"Top 10 customers by predicted CLTV:\")\n",
    "print(lifetimes_df.sort_values(by='predicted_cltv', ascending=False).head(10))"
   ]
  },
  {
   "cell_type": "markdown",
   "id": "3367e3f1",
   "metadata": {},
   "source": [
    "#### Customer 14911 bought 200 times already, spent ₹143,711, and is expected to generate a massive ₹187 million over the next year!\n",
    "#### These are your most valuable customers, the ones you want to retain and reward."
   ]
  },
  {
   "cell_type": "markdown",
   "id": "4c7c931e",
   "metadata": {},
   "source": [
    "#### Saving predictions"
   ]
  },
  {
   "cell_type": "code",
   "execution_count": 22,
   "id": "75d45fdc",
   "metadata": {},
   "outputs": [
    {
     "name": "stdout",
     "output_type": "stream",
     "text": [
      "\n",
      "CLTV predictions saved to: ../data/processed/cltv_predictions_probabilistic.csv\n"
     ]
    }
   ],
   "source": [
    "output_path = '../data/processed/cltv_predictions_probabilistic.csv'\n",
    "lifetimes_df.to_csv(output_path, index=False)\n",
    "print(f\"\\nCLTV predictions saved to: {output_path}\")\n"
   ]
  },
  {
   "cell_type": "code",
   "execution_count": null,
   "id": "4a8191a5",
   "metadata": {},
   "outputs": [],
   "source": []
  }
 ],
 "metadata": {
  "kernelspec": {
   "display_name": "cltv_env",
   "language": "python",
   "name": "python3"
  },
  "language_info": {
   "codemirror_mode": {
    "name": "ipython",
    "version": 3
   },
   "file_extension": ".py",
   "mimetype": "text/x-python",
   "name": "python",
   "nbconvert_exporter": "python",
   "pygments_lexer": "ipython3",
   "version": "3.9.23"
  }
 },
 "nbformat": 4,
 "nbformat_minor": 5
}
